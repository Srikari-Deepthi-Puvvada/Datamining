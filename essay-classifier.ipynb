{
 "cells": [
  {
   "cell_type": "code",
   "execution_count": 1,
   "id": "15820760",
   "metadata": {
    "_cell_guid": "b1076dfc-b9ad-4769-8c92-a6c4dae69d19",
    "_uuid": "8f2839f25d086af736a60e9eeb907d3b93b6e0e5",
    "execution": {
     "iopub.execute_input": "2023-12-01T23:09:29.843386Z",
     "iopub.status.busy": "2023-12-01T23:09:29.842992Z",
     "iopub.status.idle": "2023-12-01T23:09:30.222879Z",
     "shell.execute_reply": "2023-12-01T23:09:30.221861Z"
    },
    "papermill": {
     "duration": 0.397924,
     "end_time": "2023-12-01T23:09:30.225249",
     "exception": false,
     "start_time": "2023-12-01T23:09:29.827325",
     "status": "completed"
    },
    "tags": []
   },
   "outputs": [
    {
     "name": "stdout",
     "output_type": "stream",
     "text": [
      "/kaggle/input/llm-detect-ai-generated-text/sample_submission.csv\n",
      "/kaggle/input/llm-detect-ai-generated-text/train_prompts.csv\n",
      "/kaggle/input/llm-detect-ai-generated-text/test_essays.csv\n",
      "/kaggle/input/llm-detect-ai-generated-text/train_essays.csv\n"
     ]
    }
   ],
   "source": [
    "# This Python 3 environment comes with many helpful analytics libraries installed\n",
    "# It is defined by the kaggle/python Docker image: https://github.com/kaggle/docker-python\n",
    "# For example, here's several helpful packages to load\n",
    "\n",
    "import numpy as np # linear algebra\n",
    "import pandas as pd # data processing, CSV file I/O (e.g. pd.read_csv)\n",
    "\n",
    "# Input data files are available in the read-only \"../input/\" directory\n",
    "# For example, running this (by clicking run or pressing Shift+Enter) will list all files under the input directory\n",
    "\n",
    "import os\n",
    "for dirname, _, filenames in os.walk('/kaggle/input'):\n",
    "    for filename in filenames:\n",
    "        print(os.path.join(dirname, filename))\n",
    "\n",
    "# You can write up to 20GB to the current directory (/kaggle/working/) that gets preserved as output when you create a version using \"Save & Run All\" \n",
    "# You can also write temporary files to /kaggle/temp/, but they won't be saved outside of the current session"
   ]
  },
  {
   "cell_type": "code",
   "execution_count": 2,
   "id": "91a0a9e4",
   "metadata": {
    "execution": {
     "iopub.execute_input": "2023-12-01T23:09:30.254074Z",
     "iopub.status.busy": "2023-12-01T23:09:30.253168Z",
     "iopub.status.idle": "2023-12-01T23:09:30.258020Z",
     "shell.execute_reply": "2023-12-01T23:09:30.257254Z"
    },
    "papermill": {
     "duration": 0.021383,
     "end_time": "2023-12-01T23:09:30.260165",
     "exception": false,
     "start_time": "2023-12-01T23:09:30.238782",
     "status": "completed"
    },
    "tags": []
   },
   "outputs": [],
   "source": [
    "#Libraries\n",
    "import pandas as pd\n",
    "import matplotlib.pyplot as plt"
   ]
  },
  {
   "cell_type": "code",
   "execution_count": 3,
   "id": "10313d2d",
   "metadata": {
    "execution": {
     "iopub.execute_input": "2023-12-01T23:09:30.289978Z",
     "iopub.status.busy": "2023-12-01T23:09:30.289003Z",
     "iopub.status.idle": "2023-12-01T23:09:30.394092Z",
     "shell.execute_reply": "2023-12-01T23:09:30.393023Z"
    },
    "papermill": {
     "duration": 0.122506,
     "end_time": "2023-12-01T23:09:30.396822",
     "exception": false,
     "start_time": "2023-12-01T23:09:30.274316",
     "status": "completed"
    },
    "tags": []
   },
   "outputs": [],
   "source": [
    "train_df = pd.read_csv(\"/kaggle/input/llm-detect-ai-generated-text/train_essays.csv\")\n",
    "test_df = pd.read_csv(\"/kaggle/input/llm-detect-ai-generated-text/test_essays.csv\")\n",
    "train_prompts = pd.read_csv(\"/kaggle/input/llm-detect-ai-generated-text/train_prompts.csv\")"
   ]
  },
  {
   "cell_type": "code",
   "execution_count": 4,
   "id": "22c9d2a5",
   "metadata": {
    "execution": {
     "iopub.execute_input": "2023-12-01T23:09:30.426434Z",
     "iopub.status.busy": "2023-12-01T23:09:30.425709Z",
     "iopub.status.idle": "2023-12-01T23:09:30.447684Z",
     "shell.execute_reply": "2023-12-01T23:09:30.446618Z"
    },
    "papermill": {
     "duration": 0.039234,
     "end_time": "2023-12-01T23:09:30.449968",
     "exception": false,
     "start_time": "2023-12-01T23:09:30.410734",
     "status": "completed"
    },
    "tags": []
   },
   "outputs": [
    {
     "data": {
      "text/html": [
       "<div>\n",
       "<style scoped>\n",
       "    .dataframe tbody tr th:only-of-type {\n",
       "        vertical-align: middle;\n",
       "    }\n",
       "\n",
       "    .dataframe tbody tr th {\n",
       "        vertical-align: top;\n",
       "    }\n",
       "\n",
       "    .dataframe thead th {\n",
       "        text-align: right;\n",
       "    }\n",
       "</style>\n",
       "<table border=\"1\" class=\"dataframe\">\n",
       "  <thead>\n",
       "    <tr style=\"text-align: right;\">\n",
       "      <th></th>\n",
       "      <th>id</th>\n",
       "      <th>prompt_id</th>\n",
       "      <th>text</th>\n",
       "      <th>generated</th>\n",
       "    </tr>\n",
       "  </thead>\n",
       "  <tbody>\n",
       "    <tr>\n",
       "      <th>0</th>\n",
       "      <td>0059830c</td>\n",
       "      <td>0</td>\n",
       "      <td>Cars. Cars have been around since they became ...</td>\n",
       "      <td>0</td>\n",
       "    </tr>\n",
       "    <tr>\n",
       "      <th>1</th>\n",
       "      <td>005db917</td>\n",
       "      <td>0</td>\n",
       "      <td>Transportation is a large necessity in most co...</td>\n",
       "      <td>0</td>\n",
       "    </tr>\n",
       "    <tr>\n",
       "      <th>2</th>\n",
       "      <td>008f63e3</td>\n",
       "      <td>0</td>\n",
       "      <td>\"America's love affair with it's vehicles seem...</td>\n",
       "      <td>0</td>\n",
       "    </tr>\n",
       "    <tr>\n",
       "      <th>3</th>\n",
       "      <td>00940276</td>\n",
       "      <td>0</td>\n",
       "      <td>How often do you ride in a car? Do you drive a...</td>\n",
       "      <td>0</td>\n",
       "    </tr>\n",
       "    <tr>\n",
       "      <th>4</th>\n",
       "      <td>00c39458</td>\n",
       "      <td>0</td>\n",
       "      <td>Cars are a wonderful thing. They are perhaps o...</td>\n",
       "      <td>0</td>\n",
       "    </tr>\n",
       "  </tbody>\n",
       "</table>\n",
       "</div>"
      ],
      "text/plain": [
       "         id  prompt_id                                               text  \\\n",
       "0  0059830c          0  Cars. Cars have been around since they became ...   \n",
       "1  005db917          0  Transportation is a large necessity in most co...   \n",
       "2  008f63e3          0  \"America's love affair with it's vehicles seem...   \n",
       "3  00940276          0  How often do you ride in a car? Do you drive a...   \n",
       "4  00c39458          0  Cars are a wonderful thing. They are perhaps o...   \n",
       "\n",
       "   generated  \n",
       "0          0  \n",
       "1          0  \n",
       "2          0  \n",
       "3          0  \n",
       "4          0  "
      ]
     },
     "execution_count": 4,
     "metadata": {},
     "output_type": "execute_result"
    }
   ],
   "source": [
    "train_df.head()"
   ]
  },
  {
   "cell_type": "code",
   "execution_count": 5,
   "id": "ab502717",
   "metadata": {
    "execution": {
     "iopub.execute_input": "2023-12-01T23:09:30.480010Z",
     "iopub.status.busy": "2023-12-01T23:09:30.479645Z",
     "iopub.status.idle": "2023-12-01T23:09:30.490263Z",
     "shell.execute_reply": "2023-12-01T23:09:30.489277Z"
    },
    "papermill": {
     "duration": 0.028159,
     "end_time": "2023-12-01T23:09:30.492754",
     "exception": false,
     "start_time": "2023-12-01T23:09:30.464595",
     "status": "completed"
    },
    "tags": []
   },
   "outputs": [
    {
     "data": {
      "text/html": [
       "<div>\n",
       "<style scoped>\n",
       "    .dataframe tbody tr th:only-of-type {\n",
       "        vertical-align: middle;\n",
       "    }\n",
       "\n",
       "    .dataframe tbody tr th {\n",
       "        vertical-align: top;\n",
       "    }\n",
       "\n",
       "    .dataframe thead th {\n",
       "        text-align: right;\n",
       "    }\n",
       "</style>\n",
       "<table border=\"1\" class=\"dataframe\">\n",
       "  <thead>\n",
       "    <tr style=\"text-align: right;\">\n",
       "      <th></th>\n",
       "      <th>prompt_id</th>\n",
       "      <th>prompt_name</th>\n",
       "      <th>instructions</th>\n",
       "      <th>source_text</th>\n",
       "    </tr>\n",
       "  </thead>\n",
       "  <tbody>\n",
       "    <tr>\n",
       "      <th>0</th>\n",
       "      <td>0</td>\n",
       "      <td>Car-free cities</td>\n",
       "      <td>Write an explanatory essay to inform fellow ci...</td>\n",
       "      <td># In German Suburb, Life Goes On Without Cars ...</td>\n",
       "    </tr>\n",
       "    <tr>\n",
       "      <th>1</th>\n",
       "      <td>1</td>\n",
       "      <td>Does the electoral college work?</td>\n",
       "      <td>Write a letter to your state senator in which ...</td>\n",
       "      <td># What Is the Electoral College? by the Office...</td>\n",
       "    </tr>\n",
       "  </tbody>\n",
       "</table>\n",
       "</div>"
      ],
      "text/plain": [
       "   prompt_id                       prompt_name  \\\n",
       "0          0                   Car-free cities   \n",
       "1          1  Does the electoral college work?   \n",
       "\n",
       "                                        instructions  \\\n",
       "0  Write an explanatory essay to inform fellow ci...   \n",
       "1  Write a letter to your state senator in which ...   \n",
       "\n",
       "                                         source_text  \n",
       "0  # In German Suburb, Life Goes On Without Cars ...  \n",
       "1  # What Is the Electoral College? by the Office...  "
      ]
     },
     "execution_count": 5,
     "metadata": {},
     "output_type": "execute_result"
    }
   ],
   "source": [
    "train_prompts.head()"
   ]
  },
  {
   "cell_type": "code",
   "execution_count": 6,
   "id": "07f2d834",
   "metadata": {
    "execution": {
     "iopub.execute_input": "2023-12-01T23:09:30.523375Z",
     "iopub.status.busy": "2023-12-01T23:09:30.522751Z",
     "iopub.status.idle": "2023-12-01T23:09:30.534868Z",
     "shell.execute_reply": "2023-12-01T23:09:30.533883Z"
    },
    "papermill": {
     "duration": 0.029846,
     "end_time": "2023-12-01T23:09:30.537179",
     "exception": false,
     "start_time": "2023-12-01T23:09:30.507333",
     "status": "completed"
    },
    "tags": []
   },
   "outputs": [
    {
     "data": {
      "text/plain": [
       "prompt_id\n",
       "0    708\n",
       "1    670\n",
       "Name: count, dtype: int64"
      ]
     },
     "execution_count": 6,
     "metadata": {},
     "output_type": "execute_result"
    }
   ],
   "source": [
    "train_df['prompt_id'].value_counts()"
   ]
  },
  {
   "cell_type": "code",
   "execution_count": 7,
   "id": "5cc202fe",
   "metadata": {
    "execution": {
     "iopub.execute_input": "2023-12-01T23:09:30.567684Z",
     "iopub.status.busy": "2023-12-01T23:09:30.567384Z",
     "iopub.status.idle": "2023-12-01T23:09:30.573802Z",
     "shell.execute_reply": "2023-12-01T23:09:30.573163Z"
    },
    "papermill": {
     "duration": 0.023837,
     "end_time": "2023-12-01T23:09:30.575680",
     "exception": false,
     "start_time": "2023-12-01T23:09:30.551843",
     "status": "completed"
    },
    "tags": []
   },
   "outputs": [
    {
     "data": {
      "text/plain": [
       "generated\n",
       "0    1375\n",
       "1       3\n",
       "Name: count, dtype: int64"
      ]
     },
     "execution_count": 7,
     "metadata": {},
     "output_type": "execute_result"
    }
   ],
   "source": [
    "train_df['generated'].value_counts()"
   ]
  },
  {
   "cell_type": "code",
   "execution_count": 8,
   "id": "3b73e1a4",
   "metadata": {
    "execution": {
     "iopub.execute_input": "2023-12-01T23:09:30.605395Z",
     "iopub.status.busy": "2023-12-01T23:09:30.604823Z",
     "iopub.status.idle": "2023-12-01T23:09:30.611600Z",
     "shell.execute_reply": "2023-12-01T23:09:30.610857Z"
    },
    "papermill": {
     "duration": 0.02393,
     "end_time": "2023-12-01T23:09:30.613770",
     "exception": false,
     "start_time": "2023-12-01T23:09:30.589840",
     "status": "completed"
    },
    "tags": []
   },
   "outputs": [
    {
     "data": {
      "text/plain": [
       "prompt_id\n",
       "0    1\n",
       "1    1\n",
       "Name: count, dtype: int64"
      ]
     },
     "execution_count": 8,
     "metadata": {},
     "output_type": "execute_result"
    }
   ],
   "source": [
    "train_prompts['prompt_id'].value_counts()"
   ]
  },
  {
   "cell_type": "markdown",
   "id": "a1f70ca3",
   "metadata": {
    "papermill": {
     "duration": 0.014236,
     "end_time": "2023-12-01T23:09:30.642601",
     "exception": false,
     "start_time": "2023-12-01T23:09:30.628365",
     "status": "completed"
    },
    "tags": []
   },
   "source": [
    "Since in the training data there are only few LLM generated texts , getting the prompt used and generating few more LLM samples can help the model to perfrom better."
   ]
  },
  {
   "cell_type": "code",
   "execution_count": 9,
   "id": "12503f1b",
   "metadata": {
    "execution": {
     "iopub.execute_input": "2023-12-01T23:09:30.673860Z",
     "iopub.status.busy": "2023-12-01T23:09:30.672945Z",
     "iopub.status.idle": "2023-12-01T23:09:30.677681Z",
     "shell.execute_reply": "2023-12-01T23:09:30.676973Z"
    },
    "papermill": {
     "duration": 0.022488,
     "end_time": "2023-12-01T23:09:30.679562",
     "exception": false,
     "start_time": "2023-12-01T23:09:30.657074",
     "status": "completed"
    },
    "tags": []
   },
   "outputs": [],
   "source": [
    "def prompt_id_to_prompt(prompt_id):\n",
    "    if prompt_id==0:\n",
    "        return \"Car-free cities\"\n",
    "    else:\n",
    "        return \"Does the electoral college work?\""
   ]
  },
  {
   "cell_type": "code",
   "execution_count": 10,
   "id": "216803d4",
   "metadata": {
    "execution": {
     "iopub.execute_input": "2023-12-01T23:09:30.710724Z",
     "iopub.status.busy": "2023-12-01T23:09:30.710236Z",
     "iopub.status.idle": "2023-12-01T23:09:30.722297Z",
     "shell.execute_reply": "2023-12-01T23:09:30.721324Z"
    },
    "papermill": {
     "duration": 0.030341,
     "end_time": "2023-12-01T23:09:30.724358",
     "exception": false,
     "start_time": "2023-12-01T23:09:30.694017",
     "status": "completed"
    },
    "tags": []
   },
   "outputs": [
    {
     "data": {
      "text/html": [
       "<div>\n",
       "<style scoped>\n",
       "    .dataframe tbody tr th:only-of-type {\n",
       "        vertical-align: middle;\n",
       "    }\n",
       "\n",
       "    .dataframe tbody tr th {\n",
       "        vertical-align: top;\n",
       "    }\n",
       "\n",
       "    .dataframe thead th {\n",
       "        text-align: right;\n",
       "    }\n",
       "</style>\n",
       "<table border=\"1\" class=\"dataframe\">\n",
       "  <thead>\n",
       "    <tr style=\"text-align: right;\">\n",
       "      <th></th>\n",
       "      <th>id</th>\n",
       "      <th>prompt_id</th>\n",
       "      <th>text</th>\n",
       "      <th>generated</th>\n",
       "      <th>prompt_name</th>\n",
       "    </tr>\n",
       "  </thead>\n",
       "  <tbody>\n",
       "    <tr>\n",
       "      <th>0</th>\n",
       "      <td>0059830c</td>\n",
       "      <td>0</td>\n",
       "      <td>Cars. Cars have been around since they became ...</td>\n",
       "      <td>0</td>\n",
       "      <td>Car-free cities</td>\n",
       "    </tr>\n",
       "    <tr>\n",
       "      <th>1</th>\n",
       "      <td>005db917</td>\n",
       "      <td>0</td>\n",
       "      <td>Transportation is a large necessity in most co...</td>\n",
       "      <td>0</td>\n",
       "      <td>Car-free cities</td>\n",
       "    </tr>\n",
       "    <tr>\n",
       "      <th>2</th>\n",
       "      <td>008f63e3</td>\n",
       "      <td>0</td>\n",
       "      <td>\"America's love affair with it's vehicles seem...</td>\n",
       "      <td>0</td>\n",
       "      <td>Car-free cities</td>\n",
       "    </tr>\n",
       "    <tr>\n",
       "      <th>3</th>\n",
       "      <td>00940276</td>\n",
       "      <td>0</td>\n",
       "      <td>How often do you ride in a car? Do you drive a...</td>\n",
       "      <td>0</td>\n",
       "      <td>Car-free cities</td>\n",
       "    </tr>\n",
       "    <tr>\n",
       "      <th>4</th>\n",
       "      <td>00c39458</td>\n",
       "      <td>0</td>\n",
       "      <td>Cars are a wonderful thing. They are perhaps o...</td>\n",
       "      <td>0</td>\n",
       "      <td>Car-free cities</td>\n",
       "    </tr>\n",
       "  </tbody>\n",
       "</table>\n",
       "</div>"
      ],
      "text/plain": [
       "         id  prompt_id                                               text  \\\n",
       "0  0059830c          0  Cars. Cars have been around since they became ...   \n",
       "1  005db917          0  Transportation is a large necessity in most co...   \n",
       "2  008f63e3          0  \"America's love affair with it's vehicles seem...   \n",
       "3  00940276          0  How often do you ride in a car? Do you drive a...   \n",
       "4  00c39458          0  Cars are a wonderful thing. They are perhaps o...   \n",
       "\n",
       "   generated      prompt_name  \n",
       "0          0  Car-free cities  \n",
       "1          0  Car-free cities  \n",
       "2          0  Car-free cities  \n",
       "3          0  Car-free cities  \n",
       "4          0  Car-free cities  "
      ]
     },
     "execution_count": 10,
     "metadata": {},
     "output_type": "execute_result"
    }
   ],
   "source": [
    "train_df['prompt_name'] = train_df['prompt_id'].apply(prompt_id_to_prompt)\n",
    "train_df.head()"
   ]
  },
  {
   "cell_type": "code",
   "execution_count": 11,
   "id": "1d581f46",
   "metadata": {
    "execution": {
     "iopub.execute_input": "2023-12-01T23:09:30.755048Z",
     "iopub.status.busy": "2023-12-01T23:09:30.754727Z",
     "iopub.status.idle": "2023-12-01T23:09:30.761125Z",
     "shell.execute_reply": "2023-12-01T23:09:30.760145Z"
    },
    "papermill": {
     "duration": 0.02437,
     "end_time": "2023-12-01T23:09:30.763219",
     "exception": false,
     "start_time": "2023-12-01T23:09:30.738849",
     "status": "completed"
    },
    "tags": []
   },
   "outputs": [],
   "source": [
    "#ANALYSING size of texts\n",
    "train_df['length'] = train_df['text'].str.len()\n"
   ]
  },
  {
   "cell_type": "code",
   "execution_count": 12,
   "id": "0f1ea006",
   "metadata": {
    "execution": {
     "iopub.execute_input": "2023-12-01T23:09:30.793905Z",
     "iopub.status.busy": "2023-12-01T23:09:30.793590Z",
     "iopub.status.idle": "2023-12-01T23:09:30.799438Z",
     "shell.execute_reply": "2023-12-01T23:09:30.798566Z"
    },
    "papermill": {
     "duration": 0.02392,
     "end_time": "2023-12-01T23:09:30.801911",
     "exception": false,
     "start_time": "2023-12-01T23:09:30.777991",
     "status": "completed"
    },
    "tags": []
   },
   "outputs": [
    {
     "name": "stdout",
     "output_type": "stream",
     "text": [
      "Max Length : 8436\n",
      "Min Length : 1356\n"
     ]
    }
   ],
   "source": [
    "print(f\"Max Length : {train_df['length'].max()}\")\n",
    "print(f\"Min Length : {train_df['length'].min()}\")"
   ]
  },
  {
   "cell_type": "code",
   "execution_count": null,
   "id": "4d05989e",
   "metadata": {
    "papermill": {
     "duration": 0.061467,
     "end_time": "2023-12-01T23:09:30.878091",
     "exception": false,
     "start_time": "2023-12-01T23:09:30.816624",
     "status": "completed"
    },
    "tags": []
   },
   "outputs": [],
   "source": []
  },
  {
   "cell_type": "markdown",
   "id": "f14f7cd6",
   "metadata": {
    "papermill": {
     "duration": 0.014458,
     "end_time": "2023-12-01T23:09:30.907053",
     "exception": false,
     "start_time": "2023-12-01T23:09:30.892595",
     "status": "completed"
    },
    "tags": []
   },
   "source": [
    "Manually generating few chat GPT chatGPT based essays"
   ]
  },
  {
   "cell_type": "code",
   "execution_count": 13,
   "id": "c8e8b054",
   "metadata": {
    "execution": {
     "iopub.execute_input": "2023-12-01T23:09:30.937364Z",
     "iopub.status.busy": "2023-12-01T23:09:30.936986Z",
     "iopub.status.idle": "2023-12-01T23:09:30.948160Z",
     "shell.execute_reply": "2023-12-01T23:09:30.947440Z"
    },
    "papermill": {
     "duration": 0.028636,
     "end_time": "2023-12-01T23:09:30.950056",
     "exception": false,
     "start_time": "2023-12-01T23:09:30.921420",
     "status": "completed"
    },
    "tags": []
   },
   "outputs": [
    {
     "data": {
      "text/plain": [
       "20"
      ]
     },
     "execution_count": 13,
     "metadata": {},
     "output_type": "execute_result"
    }
   ],
   "source": [
    "#Manual CHATGPT generate based ob \"Car free cites\"\n",
    "#20 essays\n",
    "chatgpt_essays = [\n",
    "    \"\"\"Car-free cities represent a paradigm shift in urban planning, focusing on sustainability and community well-being. By discouraging private vehicle use and promoting alternative transportation modes, these cities aim to reduce environmental impact and enhance overall quality of life.\"\"\",\n",
    "\n",
    "    \"\"\"Traffic congestion is a pervasive issue in urban areas, leading to wasted time, increased pollution, and heightened stress levels. Car-free city initiatives address these challenges by reimagining transportation infrastructure and prioritizing pedestrian-friendly spaces.\"\"\",\n",
    "\n",
    "    \"\"\"The success of car-free cities relies on robust public transportation systems. Efficient buses, trams, and subways provide viable alternatives to private cars, ensuring that residents can navigate the city seamlessly without contributing to traffic congestion.\"\"\",\n",
    "\n",
    "    \"\"\"Pedestrian zones, where cars are entirely restricted, create vibrant urban spaces. These areas become hubs for cultural activities, social interactions, and community events, fostering a sense of belonging among residents.\"\"\",\n",
    "\n",
    "    \"\"\"Sustainability is a key driver behind the push for car-free cities. By reducing reliance on fossil fuel-powered vehicles, these cities contribute to lower carbon emissions, mitigating the impact of climate change and improving air quality.\"\"\",\n",
    "\n",
    "    \"\"\"Green transportation options, such as electric bicycles and shared mobility services, play a pivotal role in the transition to car-free cities. These alternatives provide flexibility and convenience without compromising environmental goals.\"\"\",\n",
    "\n",
    "    \"\"\"Car-free zones are catalysts for economic revitalization. Local businesses flourish as people are more inclined to explore shops and cafes when freed from the constraints of heavy traffic.\"\"\",\n",
    "\n",
    "    \"\"\"Implementing car-free initiatives requires comprehensive urban planning. Cities must consider infrastructure changes, alternative transportation options, and public awareness campaigns to ensure a smooth transition and widespread support.\"\"\",\n",
    "\n",
    "    \"\"\"While the benefits of car-free cities are clear, challenges such as resistance to change and the need for extensive public transportation infrastructure must be addressed to make these initiatives successful.\"\"\",\n",
    "\n",
    "    \"\"\"Car-free neighborhoods within larger cities serve as experiments in sustainable living. These smaller-scale initiatives allow for testing and refining before implementing broader car-free policies across entire urban areas.\"\"\",\n",
    "\n",
    "    \"\"\"Car-free cities align with the principles of the New Urbanism movement, emphasizing walkability, mixed land use, and community engagement. These principles contribute to a more connected and socially vibrant urban landscape.\"\"\",\n",
    "\n",
    "    \"\"\"Historically, some cities have successfully implemented car-free zones on specific days or during certain events. Expanding these initiatives to a full-time, city-wide scale requires careful planning and consideration of diverse urban needs.\"\"\",\n",
    "\n",
    "    \"\"\"Public support is crucial for the success of car-free city initiatives. Engaging residents through community forums, education campaigns, and involving them in the decision-making process fosters a sense of ownership and commitment to the transformation.\"\"\",\n",
    "\n",
    "    \"\"\"Urban planners must address accessibility concerns when implementing car-free initiatives. Ensuring that public transportation is inclusive and accommodates individuals with diverse mobility needs is paramount for success.\"\"\",\n",
    "\n",
    "    \"\"\"Car-free cities are not about restricting mobility but rather redefining it. By encouraging sustainable modes of transportation, these cities offer residents a choice that aligns with both personal and collective well-being.\"\"\",\n",
    "\n",
    "    \"\"\"Economic analyses of car-free city projects reveal potential cost savings in healthcare, reduced traffic-related expenditures, and increased economic activity in pedestrian-oriented commercial areas.\"\"\",\n",
    "\n",
    "    \"\"\"Car-free cities contribute to a shift in mindset regarding transportation. Prioritizing active modes of transport not only reduces the environmental impact but also promotes healthier lifestyles and physical well-being.\"\"\",\n",
    "\n",
    "    \"\"\"Technology plays a role in the success of car-free cities. Smart traffic management systems, ride-sharing apps, and sustainable mobility solutions contribute to the efficiency and effectiveness of alternative transportation.\"\"\",\n",
    "\n",
    "    \"\"\"Car-free initiatives are not one-size-fits-all solutions. Cities must tailor their approaches to accommodate unique geographical, cultural, and socioeconomic factors, ensuring that the transition aligns with the specific needs of their residents.\"\"\",\n",
    "\n",
    "    \"\"\"As more cities explore the possibility of becoming car-free, the sharing of best practices and lessons learned becomes crucial. Collaboration among cities can accelerate the adoption of sustainable urban living and create a global network of car-free advocates.\"\"\",\n",
    "]\n",
    "len(chatgpt_essays)\n"
   ]
  },
  {
   "cell_type": "code",
   "execution_count": 14,
   "id": "35698cee",
   "metadata": {
    "execution": {
     "iopub.execute_input": "2023-12-01T23:09:30.981153Z",
     "iopub.status.busy": "2023-12-01T23:09:30.980779Z",
     "iopub.status.idle": "2023-12-01T23:09:30.995173Z",
     "shell.execute_reply": "2023-12-01T23:09:30.994175Z"
    },
    "papermill": {
     "duration": 0.032486,
     "end_time": "2023-12-01T23:09:30.997129",
     "exception": false,
     "start_time": "2023-12-01T23:09:30.964643",
     "status": "completed"
    },
    "tags": []
   },
   "outputs": [
    {
     "data": {
      "text/plain": [
       "33"
      ]
     },
     "execution_count": 14,
     "metadata": {},
     "output_type": "execute_result"
    }
   ],
   "source": [
    "chatgpt_esssays_2 = essays = [\n",
    "    \"\"\"Car-free cities are visionary urban spaces that prioritize the well-being of both the environment and inhabitants. By discouraging the use of private vehicles, these cities aim to reduce pollution, alleviate traffic congestion, and create more livable communities.\"\"\",\n",
    "\n",
    "    \"\"\"The call for car-free cities is not merely an environmental initiative but a holistic approach to urban planning. It involves reimagining transportation systems, redesigning public spaces, and fostering a cultural shift towards sustainable living.\"\"\",\n",
    "\n",
    "    \"\"\"One of the challenges in transitioning to a car-free city is the need for robust public transportation infrastructure. Efficient buses, trams, and metro systems are crucial to ensuring that residents can move seamlessly without relying on private cars.\"\"\",\n",
    "\n",
    "    \"\"\"Car-free zones contribute to economic revitalization by creating pedestrian-friendly areas where local businesses can thrive. The absence of vehicular traffic encourages people to explore shops and cafes, enhancing the vibrancy of commercial districts.\"\"\",\n",
    "\n",
    "    \"\"\"The success of car-free cities lies in the willingness of residents to embrace alternative modes of transportation. Public awareness campaigns and community engagement play a crucial role in garnering support for such transformative initiatives.\"\"\",\n",
    "\n",
    "    \"\"\"Car-free initiatives are not a one-size-fits-all solution. Each city must tailor its approach to consider unique geographical, cultural, and socioeconomic factors, ensuring that the transition aligns with the specific needs of its residents.\"\"\",\n",
    "\n",
    "    \"\"\"While the benefits of car-free cities are evident, implementation requires careful consideration of accessibility. Ensuring that public transportation is inclusive and accommodates individuals with diverse mobility needs is paramount for success.\"\"\",\n",
    "\n",
    "    \"\"\"Car-free neighborhoods within larger cities serve as experimental grounds for sustainable living. These smaller-scale initiatives allow for testing and refining before implementing broader car-free policies across entire urban areas.\"\"\",\n",
    "\n",
    "    \"\"\"The concept of car-free cities aligns with the principles of the New Urbanism movement, emphasizing walkability, mixed land use, and community engagement. These principles contribute to a more connected and socially vibrant urban landscape.\"\"\",\n",
    "\n",
    "    \"\"\"Car-free cities are not about restricting mobility but rather redefining it. By encouraging sustainable modes of transportation, these cities offer residents a choice that aligns with both personal and collective well-being.\"\"\",\n",
    "\n",
    "    \"\"\"Implementing car-free initiatives requires comprehensive urban planning. Cities must consider infrastructure changes, alternative transportation options, and public awareness campaigns to ensure a smooth transition and widespread support.\"\"\",\n",
    "\n",
    "    \"\"\"Car-free zones are catalysts for economic revitalization. Local businesses flourish as people are more inclined to explore shops and cafes when freed from the constraints of heavy traffic.\"\"\",\n",
    "\n",
    "    \"\"\"Green transportation options, such as electric bicycles and shared mobility services, play a pivotal role in the transition to car-free cities. These alternatives provide flexibility and convenience without compromising environmental goals.\"\"\",\n",
    "\n",
    "    \"\"\"Car-free cities represent a paradigm shift in urban planning, focusing on sustainability and community well-being. By discouraging private vehicle use and promoting alternative transportation modes, these cities aim to reduce environmental impact and enhance overall quality of life.\"\"\",\n",
    "\n",
    "    \"\"\"Traffic congestion is a pervasive issue in urban areas, leading to wasted time, increased pollution, and heightened stress levels. Car-free city initiatives address these challenges by reimagining transportation infrastructure and prioritizing pedestrian-friendly spaces.\"\"\",\n",
    "\n",
    "    \"\"\"The success of car-free cities relies on robust public transportation systems. Efficient buses, trams, and subways provide viable alternatives to private cars, ensuring that residents can navigate the city seamlessly without contributing to traffic congestion.\"\"\",\n",
    "\n",
    "    \"\"\"Pedestrian zones, where cars are entirely restricted, create vibrant urban spaces. These areas become hubs for cultural activities, social interactions, and community events, fostering a sense of belonging among residents.\"\"\",\n",
    "\n",
    "    \"\"\"Sustainability is a key driver behind the push for car-free cities. By reducing reliance on fossil fuel-powered vehicles, these cities contribute to lower carbon emissions, mitigating the impact of climate change and improving air quality.\"\"\",\n",
    "\n",
    "    \"\"\"Green transportation options, such as electric bicycles and shared mobility services, play a pivotal role in the transition to car-free cities. These alternatives provide flexibility and convenience without compromising environmental goals.\"\"\",\n",
    "\n",
    "    \"\"\"Car-free zones are catalysts for economic revitalization. Local businesses flourish as people are more inclined to explore shops and cafes when freed from the constraints of heavy traffic.\"\"\",\n",
    "\n",
    "    \"\"\"Implementing car-free initiatives requires comprehensive urban planning. Cities must consider infrastructure changes, alternative transportation options, and public awareness campaigns to ensure a smooth transition and widespread support.\"\"\",\n",
    "\n",
    "    \"\"\"While the benefits of car-free cities are clear, challenges such as resistance to change and the need for extensive public transportation infrastructure must be addressed to make these initiatives successful.\"\"\",\n",
    "\n",
    "    \"\"\"Car-free neighborhoods within larger cities serve as experiments in sustainable living. These smaller-scale initiatives allow for testing and refining before implementing broader car-free policies across entire urban areas.\"\"\",\n",
    "\n",
    "    \"\"\"Car-free cities align with the principles of the New Urbanism movement, emphasizing walkability, mixed land use, and community engagement. These principles contribute to a more connected and socially vibrant urban landscape.\"\"\",\n",
    "\n",
    "    \"\"\"Historically, some cities have successfully implemented car-free zones on specific days or during certain events. Expanding these initiatives to a full-time, city-wide scale requires careful planning and consideration of diverse urban needs.\"\"\",\n",
    "\n",
    "    \"\"\"Public support is crucial for the success of car-free city initiatives. Engaging residents through community forums, education campaigns, and involving them in the decision-making process fosters a sense of ownership and commitment to the transformation.\"\"\",\n",
    "\n",
    "    \"\"\"Urban planners must address accessibility concerns when implementing car-free initiatives. Ensuring that public transportation is inclusive and accommodates individuals with diverse mobility needs is paramount for success.\"\"\",\n",
    "\n",
    "    \"\"\"Car-free cities are not about restricting mobility but rather redefining it. By encouraging sustainable modes of transportation, these cities offer residents a choice that aligns with both personal and collective well-being.\"\"\",\n",
    "\n",
    "    \"\"\"Economic analyses of car-free city projects reveal potential cost savings in healthcare, reduced traffic-related expenditures, and increased economic activity in pedestrian-oriented commercial areas.\"\"\",\n",
    "\n",
    "    \"\"\"Car-free cities contribute to a shift in mindset regarding transportation. Prioritizing active modes of transport not only reduces the environmental impact but also promotes healthier lifestyles and physical well-being.\"\"\",\n",
    "\n",
    "    \"\"\"Technology plays a role in the success of car-free cities. Smart traffic management systems, ride-sharing apps, and sustainable mobility solutions contribute to the efficiency and effectiveness of alternative transportation.\"\"\",\n",
    "\n",
    "    \"\"\"Car-free initiatives are not one-size-fits-all solutions. Cities must tailor their approaches to accommodate unique geographical, cultural, and socioeconomic factors, ensuring that the transition aligns with the specific needs of their residents.\"\"\",\n",
    "\n",
    "    \"\"\"As more cities explore the possibility of becoming car-free, the sharing of best practices and lessons learned becomes crucial. Collaboration among cities can accelerate the adoption of sustainable urban living and create a global network of car-free advocates.\"\"\",\n",
    "]\n",
    "len(chatgpt_esssays_2)"
   ]
  },
  {
   "cell_type": "code",
   "execution_count": 15,
   "id": "fa7da56a",
   "metadata": {
    "execution": {
     "iopub.execute_input": "2023-12-01T23:09:31.029167Z",
     "iopub.status.busy": "2023-12-01T23:09:31.028846Z",
     "iopub.status.idle": "2023-12-01T23:09:31.048548Z",
     "shell.execute_reply": "2023-12-01T23:09:31.047689Z"
    },
    "papermill": {
     "duration": 0.038495,
     "end_time": "2023-12-01T23:09:31.050511",
     "exception": false,
     "start_time": "2023-12-01T23:09:31.012016",
     "status": "completed"
    },
    "tags": []
   },
   "outputs": [
    {
     "data": {
      "text/plain": [
       "44"
      ]
     },
     "execution_count": 15,
     "metadata": {},
     "output_type": "execute_result"
    }
   ],
   "source": [
    "chatgpt_essays_3 = [\n",
    "    \"\"\"Car-free cities embody a progressive vision for urban living, challenging the traditional reliance on private vehicles. The underlying philosophy centers on sustainability, environmental consciousness, and the creation of more inclusive, pedestrian-friendly urban spaces.\"\"\",\n",
    "\n",
    "    \"\"\"The concept of car-free cities isn't just about reducing traffic congestion; it's a holistic approach to redefining the urban experience. By discouraging private car use, cities aim to improve air quality, reduce noise pollution, and create healthier, more livable environments for their residents.\"\"\",\n",
    "\n",
    "    \"\"\"Urban planners face a delicate balancing act when transitioning to car-free cities. They must redesign transportation systems, allocate space for alternative modes of transport, and consider the diverse needs of the community. The success of such initiatives hinges on meticulous planning and strategic execution.\"\"\",\n",
    "\n",
    "    \"\"\"Car-free zones, where vehicular traffic is entirely restricted, hold the promise of transforming urban landscapes. Streets once dominated by cars become vibrant spaces for people to walk, cycle, and engage in community activities, fostering a sense of connectivity and shared public spaces.\"\"\",\n",
    "\n",
    "    \"\"\"Public transportation emerges as a linchpin in the viability of car-free cities. Cities must invest in efficient and accessible public transit systems to provide residents with reliable alternatives to private vehicles. This necessitates not only expanding existing infrastructure but also introducing innovative solutions for last-mile connectivity.\"\"\",\n",
    "\n",
    "    \"\"\"The economic implications of car-free initiatives extend beyond reduced traffic congestion. By creating pedestrian-oriented zones and promoting sustainable mobility, cities can attract businesses and stimulate local economies. This economic revitalization becomes a driving force for the success and acceptance of car-free urban living.\"\"\",\n",
    "\n",
    "    \"\"\"Car-free cities embrace a fundamental shift in mindset, encouraging residents to adopt alternative modes of transportation. Electric bicycles, shared mobility services, and improved public transit become not just choices but lifestyle preferences aligned with environmental consciousness and individual well-being.\"\"\",\n",
    "\n",
    "    \"\"\"A critical consideration in the implementation of car-free cities is social equity. Urban planners must ensure that the benefits of reduced congestion and improved air quality are distributed equitably across diverse communities, avoiding unintended consequences that may disproportionately affect certain groups.\"\"\",\n",
    "\n",
    "    \"\"\"While the benefits of car-free cities are numerous, these initiatives face resistance from individuals accustomed to the convenience of private vehicle use. Overcoming this resistance requires effective communication, education, and a clear demonstration of the long-term advantages of a car-free urban lifestyle.\"\"\",\n",
    "\n",
    "    \"\"\"Car-free neighborhoods within larger cities serve as experimental grounds for sustainable living. These smaller-scale initiatives allow for testing and refining before implementing broader car-free policies across entire urban areas.\"\"\",\n",
    "\n",
    "    \"\"\"In transitioning to car-free cities, technology plays a pivotal role. Smart city solutions, real-time traffic management systems, and innovative transportation apps contribute to the efficiency and effectiveness of alternative transportation methods, ensuring a seamless experience for residents.\"\"\",\n",
    "\n",
    "    \"\"\"Car-free initiatives necessitate collaboration between governments, urban planners, and the community. Open dialogues, community engagement, and a participatory approach to decision-making foster a sense of shared responsibility and ownership, crucial for the success of these transformative endeavors.\"\"\",\n",
    "\n",
    "    \"\"\"The transition to car-free cities is not without its challenges. Cities must grapple with the need for comprehensive infrastructure changes, potential disruptions during the transition period, and the intricate task of reshaping the urban fabric to accommodate alternative transportation options.\"\"\",\n",
    "\n",
    "    \"\"\"Green transportation modes, such as electric bikes and scooters, contribute to the ecological sustainability of car-free cities. These modes offer efficient and environmentally friendly alternatives, aligning with the broader goals of reducing carbon emissions and mitigating the impacts of climate change.\"\"\",\n",
    "\n",
    "    \"\"\"Car-free cities can redefine public spaces by transforming roadways into green corridors, parks, and communal areas. This shift enhances the aesthetic appeal of urban environments, fostering a sense of pride among residents and creating spaces for recreational activities and cultural events.\"\"\",\n",
    "\n",
    "    \"\"\"In embracing car-free cities, cities not only address the immediate challenges of traffic congestion and pollution but also contribute to a global movement toward sustainable urban living. The sharing of best practices and lessons learned becomes vital as cities collaborate to create a network of car-free advocates worldwide.\"\"\",\n",
    "\n",
    "    \"\"\"Car-free zones represent a departure from the conventional urban landscape. These zones prioritize pedestrians, cyclists, and public transit over private vehicles, reshaping the dynamics of transportation and fostering a more inclusive, healthier urban experience.\"\"\",\n",
    "\n",
    "    \"\"\"Implementing car-free initiatives requires a multidimensional approach, integrating urban planning, policy changes, and community engagement. A phased implementation, starting with pilot projects and gradually expanding, allows cities to test strategies and adapt to the evolving needs of residents.\"\"\",\n",
    "\n",
    "    \"\"\"Car-free cities offer a solution to the perennial issue of traffic congestion that plagues urban areas worldwide. By reducing the number of private vehicles on the road, cities can create more efficient transportation systems and improve the overall quality of life for their residents.\"\"\",\n",
    "\n",
    "    \"\"\"The success of car-free cities hinges on the synergy between urban planning and technological innovation. Smart traffic management systems, real-time data analytics, and the integration of sustainable transportation solutions are integral to creating seamless, efficient urban environments that prioritize pedestrian and cyclist-friendly spaces.\"\"\",\n",
    "\n",
    "    \"\"\"Car-free initiatives necessitate a paradigm shift in how individuals perceive and engage with urban spaces. By reimagining streets as shared public spaces rather than conduits for vehicular traffic, cities can foster a sense of community, encourage social interactions, and promote a healthier, more active lifestyle for their residents.\"\"\",\n",
    "\n",
    "    \"\"\"Car-free zones serve as living laboratories for sustainable urban living. These areas allow cities to experiment with innovative solutions, test the viability of alternative transportation methods, and gather valuable insights to inform the broader implementation of car-free policies across the entire urban landscape.\"\"\",\n",
    "\n",
    "    \"\"\"Urban planners face the challenge of striking a balance between car-free initiatives and maintaining accessibility for all residents. Ensuring that public transportation is inclusive, accommodating individuals with diverse mobility needs, is essential for the success and acceptance of car-free urban living.\"\"\",\n",
    "\n",
    "    \"\"\"Car-free cities embody a vision of urban living that prioritizes environmental sustainability, reduced carbon emissions, and improved air quality. By promoting alternative modes of transportation and limiting the use of private vehicles, cities can create cleaner, healthier environments for their residents.\"\"\",\n",
    "\n",
    "    \"\"\"The economic benefits of car-free initiatives extend beyond reduced traffic congestion. These initiatives stimulate local economies by creating pedestrian-friendly zones that attract foot traffic, encourage local businesses, and contribute to a vibrant, economically thriving urban landscape.\"\"\",\n",
    "\n",
    "    \"\"\"Car-free cities offer an opportunity to rethink the allocation of urban space. By reclaiming streets from vehicular traffic, cities can create green corridors, parks, and recreational spaces that enhance the overall quality of life for residents and contribute to a more sustainable, ecologically conscious urban environment.\"\"\",\n",
    "\n",
    "    \"\"\"In transitioning to car-free cities, fostering a culture of sustainability and environmental consciousness becomes paramount. Education campaigns, community involvement, and initiatives promoting sustainable living practices contribute to the success and acceptance of car-free urban initiatives.\"\"\",\n",
    "\n",
    "    \"\"\"Car-free initiatives are not isolated endeavors but part of a broader global movement toward sustainable urban living. Cities worldwide can learn from each other's successes and challenges, creating a collaborative network of car-free advocates working toward a common goal of creating more livable, environmentally friendly urban spaces.\"\"\",\n",
    "\n",
    "    \"\"\"Car-free cities are not about deprivation but empowerment—empowering residents with sustainable transportation options, creating healthier urban environments, and fostering a sense of community and shared responsibility for the well-being of the city and its inhabitants.\"\"\",\n",
    "\n",
    "    \"\"\"The shift to car-free cities requires a comprehensive reassessment of transportation infrastructure. Investing in alternative modes of transport, expanding public transit options, and integrating smart city solutions are integral components of creating efficient, sustainable urban environments that prioritize the needs of residents over vehicular traffic.\"\"\",\n",
    "\n",
    "    \"\"\"Car-free zones can serve as catalysts for social change, encouraging people to reevaluate their relationship with personal vehicles and embrace alternative, more sustainable modes of transportation. This shift in mindset is essential for the long-term success of car-free initiatives and the creation of truly livable urban spaces.\"\"\",\n",
    "\n",
    "    \"\"\"Car-free cities exemplify a forward-thinking approach to urban planning. By placing pedestrians, cyclists, and public transit at the forefront, these cities aim to reduce traffic congestion, minimize environmental impact, and create inclusive, vibrant urban spaces that prioritize the well-being of residents over vehicular convenience.\"\"\",\n",
    "\n",
    "    \"\"\"The implementation of car-free initiatives requires strategic collaboration between urban planners, policymakers, and the community. Engaging residents in the decision-making process, addressing concerns, and ensuring transparency are crucial elements for garnering support and fostering a sense of ownership in the transformative journey toward car-free urban living.\"\"\",\n",
    "\n",
    "    \"\"\"Car-free cities are not just a solution to traffic woes; they represent a commitment to creating healthier, more sustainable urban environments. By promoting active modes of transportation and reducing the reliance on private vehicles, cities can improve air quality, reduce noise pollution, and enhance the overall quality of life for their residents.\"\"\",\n",
    "\n",
    "    \"\"\"The success of car-free cities depends on the adaptability of urban planning to diverse cultural and geographic contexts. Customizing strategies, considering local needs, and integrating community feedback ensure that car-free initiatives align with the specific characteristics and requirements of each unique urban landscape.\"\"\",\n",
    "\n",
    "    \"\"\"Car-free initiatives offer a unique opportunity for cities to redefine public spaces and enhance the urban experience. Streets once dominated by traffic become places for socializing, recreation, and cultural events, fostering a stronger sense of community and connection among residents.\"\"\",\n",
    "\n",
    "    \"\"\"The integration of technology is a linchpin in the success of car-free cities. Smart traffic management systems, real-time data analytics, and innovative transportation solutions contribute to the efficiency and effectiveness of alternative modes of transportation, ensuring a seamless transition to car-free urban living.\"\"\",\n",
    "\n",
    "    \"\"\"Car-free cities are not just about reducing the number of vehicles on the road; they represent a broader commitment to sustainable, people-centric urban living. By prioritizing pedestrians, cyclists, and public transit, cities can create environments that prioritize the well-being of residents and contribute to a healthier, more resilient future.\"\"\",\n",
    "\n",
    "    \"\"\"Car-free zones, when strategically implemented, can serve as models for sustainable urban living. These areas allow for experimentation with innovative transportation solutions, fostering a culture of adaptation, learning, and continuous improvement in the quest for creating truly livable, car-free cities.\"\"\",\n",
    "\n",
    "    \"\"\"Car-free cities reimagine transportation as a public good rather than a private convenience. By placing emphasis on accessible, efficient public transit and creating pedestrian-friendly spaces, these cities challenge the traditional notion of urban mobility and set the stage for a more equitable and sustainable future.\"\"\",\n",
    "\n",
    "    \"\"\"The success of car-free cities hinges on the seamless integration of various modes of transportation. Efficient public transit, cycling infrastructure, and pedestrian-friendly designs must coalesce to create a comprehensive and accessible network that caters to the diverse needs of urban residents.\"\"\",\n",
    "\n",
    "    \"\"\"Car-free cities offer a tangible solution to the dual challenges of traffic congestion and environmental degradation. By fostering a culture of sustainable mobility and prioritizing alternative modes of transportation, cities can create cleaner, more resilient urban environments that benefit both current and future generations.\"\"\",\n",
    "\n",
    "    \"\"\"The creation of car-free cities requires a holistic approach to urban planning that goes beyond transportation infrastructure. It involves reimagining public spaces, encouraging sustainable living practices, and fostering a sense of community that transcends the traditional boundaries imposed by vehicular traffic.\"\"\",\n",
    "\n",
    "    \"\"\"Car-free cities challenge the status quo by prioritizing the well-being of residents over the convenience of private vehicles. This paradigm shift requires a concerted effort from urban planners, policymakers, and the community to reimagine urban spaces, embrace sustainable alternatives, and collectively work towards creating more livable, resilient cities.\"\"\",\n",
    "]\n",
    "len(chatgpt_essays_3)"
   ]
  },
  {
   "cell_type": "code",
   "execution_count": 16,
   "id": "f2dc7995",
   "metadata": {
    "execution": {
     "iopub.execute_input": "2023-12-01T23:09:31.082736Z",
     "iopub.status.busy": "2023-12-01T23:09:31.082427Z",
     "iopub.status.idle": "2023-12-01T23:09:31.105882Z",
     "shell.execute_reply": "2023-12-01T23:09:31.104966Z"
    },
    "papermill": {
     "duration": 0.04236,
     "end_time": "2023-12-01T23:09:31.107969",
     "exception": false,
     "start_time": "2023-12-01T23:09:31.065609",
     "status": "completed"
    },
    "tags": []
   },
   "outputs": [],
   "source": [
    "essays_electoral_college = [\n",
    "    \"\"\"The efficacy of the Electoral College in the United States has been a subject of debate since its inception. Proponents argue that it ensures a fair representation of all states in the presidential election, preventing populous states from dominating the outcome. However, critics contend that it can lead to situations where the candidate with fewer popular votes wins the election, raising questions about the system's democratic legitimacy.\"\"\",\n",
    "\n",
    "    \"\"\"The Electoral College was devised as a compromise to balance the interests of smaller and larger states during the formation of the U.S. Constitution. While intended to prevent the dominance of highly populated states, it has faced criticism for not accurately reflecting the popular vote. This raises concerns about the fairness and representativeness of the current electoral system.\"\"\",\n",
    "\n",
    "    \"\"\"The effectiveness of the Electoral College is a contentious issue in American politics. Supporters argue that it promotes stability and prevents candidates from focusing solely on densely populated urban areas, ensuring that the concerns of a diverse range of states are considered. However, detractors point to instances where the winner of the popular vote did not secure the presidency, prompting calls for electoral reform.\"\"\",\n",
    "\n",
    "    \"\"\"The question of whether the Electoral College works is complex and multifaceted. On one hand, it provides a mechanism to prevent the marginalization of smaller states in the presidential election process. On the other hand, it has been criticized for deviating from the principle of one person, one vote, as seen in cases where a candidate wins the electoral vote but loses the popular vote. This tension fuels the ongoing debate about the system's effectiveness.\"\"\",\n",
    "\n",
    "    \"\"\"The Electoral College has been a fixture of American elections, but its efficacy is a matter of ongoing discussion. While it is designed to balance the influence of states with varying populations, the winner-takes-all approach in most states can lead to a distortion of the popular vote. This has led to calls for reform or even the adoption of alternative methods to ensure a more direct and representative connection between citizens and their choice for president.\"\"\",\n",
    "\n",
    "    \"\"\"Proponents of the Electoral College argue that it prevents candidates from focusing solely on high-population urban areas, ensuring that the concerns of citizens across diverse states are taken into account. However, the winner-takes-all system in most states has faced criticism for not accurately reflecting the popular vote, raising questions about the fairness and legitimacy of the current electoral process.\"\"\",\n",
    "\n",
    "    \"\"\"The question of whether the Electoral College effectively serves its intended purpose is a divisive one. While it aims to balance the influence of states with different population sizes, it has faced criticism for producing outcomes where the candidate with fewer popular votes secures the presidency. This discrepancy has fueled ongoing debates about the need for electoral reform to better align with democratic principles.\"\"\",\n",
    "\n",
    "    \"\"\"The Electoral College is a unique feature of the U.S. presidential election system, designed to strike a balance between the interests of large and small states. However, its effectiveness has been scrutinized, particularly when the electoral outcome diverges from the popular vote. This has led to discussions about potential reforms to ensure a more accurate representation of the will of the people in electing the nation's leader.\"\"\",\n",
    "\n",
    "    \"\"\"The debate over the effectiveness of the Electoral College is deeply rooted in the tension between state and individual representation. While the system aims to prevent the dominance of densely populated states, critics argue that it can lead to situations where the preferences of the majority are not reflected in the electoral outcome. The ongoing discourse raises questions about the adaptability and fairness of the current electoral framework.\"\"\",\n",
    "\n",
    "    \"\"\"The functionality of the Electoral College has been a topic of scrutiny in American politics. While proponents argue that it protects the interests of smaller states and ensures a geographically diverse representation, critics point to instances where it has deviated from the popular vote. This prompts discussions about the need for reform to align the electoral process more closely with democratic principles.\"\"\",\n",
    "\n",
    "    \"\"\"The question of whether the Electoral College works as intended is pivotal in discussions about the fairness of the U.S. presidential election system. While it was established to prevent the domination of highly populated states, its winner-takes-all approach in most states has been criticized for distorting the popular vote. This ongoing debate underscores the need for a comprehensive examination of the system's strengths and weaknesses.\"\"\",\n",
    "]\n",
    "essays_electoral_college_2 = [\n",
    "    \"\"\"The Electoral College, designed to balance the interests of states, has been a cornerstone of American elections. While it aims to prevent the marginalization of smaller states, critics argue that it can lead to scenarios where the popular vote does not align with the electoral outcome. This tension prompts ongoing discussions about the efficacy of the Electoral College and the need for potential reforms.\"\"\",\n",
    "\n",
    "    \"\"\"The Electoral College, a mechanism devised to safeguard the interests of states with varying populations, has been a subject of scrutiny. Despite its original intent, instances where candidates win the electoral vote but lose the popular vote have sparked debates about the system's fairness and representation. This calls into question whether the Electoral College effectively serves the democratic principles of the United States.\"\"\",\n",
    "\n",
    "    \"\"\"The effectiveness of the Electoral College in ensuring a fair and representative presidential election remains a contentious issue. Advocates argue that it prevents candidates from focusing solely on populous states, while critics point to its potential to distort the popular vote. As the nation grapples with questions about the democratic legitimacy of its electoral process, discussions on electoral reform gain momentum.\"\"\",\n",
    "\n",
    "    \"\"\"The Electoral College was conceived to strike a balance between the needs of large and small states, yet its functionality has been a subject of ongoing debate. While it offers protection against the dominance of densely populated states, concerns persist regarding its deviation from the popular vote. This prompts a critical examination of the Electoral College and discussions about potential reforms to enhance its democratic alignment.\"\"\",\n",
    "\n",
    "    \"\"\"As a unique feature of the U.S. electoral system, the Electoral College has been both praised for its balancing act and criticized for potential distortions of the popular vote. The tension between state and individual representation raises questions about the system's overall efficacy. In the quest for a fair and representative election process, the debate on the Electoral College's functionality continues to evolve.\"\"\",\n",
    "\n",
    "    \"\"\"The role and effectiveness of the Electoral College in the U.S. electoral process are central to discussions about the nation's democratic principles. While it aims to prevent the disproportionate influence of highly populated states, critics argue that it can lead to situations where the majority's will is not accurately reflected. This ongoing discourse prompts a reevaluation of the Electoral College's place in modern democracy.\"\"\",\n",
    "\n",
    "    \"\"\"Debates surrounding the Electoral College revolve around its ability to balance state interests and ensure a fair representation of all citizens. While it may prevent the dominance of populous states, concerns persist regarding its potential to diverge from the popular vote. The question of whether the Electoral College works becomes a focal point in discussions about electoral integrity and democratic values.\"\"\",\n",
    "\n",
    "    \"\"\"The Electoral College, a mechanism embedded in the U.S. Constitution, has been integral to the nation's electoral process. Despite its historical significance, questions persist about its efficacy in the modern context. The tension between state and individual representation prompts ongoing discussions about the need for reforms to align the electoral system more closely with democratic ideals.\"\"\",\n",
    "\n",
    "    \"\"\"The Electoral College, conceived to address the interests of states with varying populations, has been a defining element of American elections. While it aims to prevent the marginalization of smaller states, concerns about its potential to override the popular vote fuel discussions about its functionality and democratic legitimacy. The ongoing debate underscores the need for a nuanced examination of the Electoral College's role in shaping the nation's leadership.\"\"\",\n",
    "\n",
    "    \"\"\"The question of whether the Electoral College effectively serves the democratic principles of the United States is at the heart of electoral discussions. While it was designed to prevent the dominance of highly populated states, its winner-takes-all approach has faced criticism for distorting the popular vote. This prompts a reexamination of the Electoral College's role in the nation's electoral landscape.\"\"\",\n",
    "\n",
    "    \"\"\"The Electoral College, as a product of historical compromise, has shaped the U.S. presidential election process. While it prevents the domination of populous states, debates persist about its potential to produce outcomes inconsistent with the popular vote. This ongoing discussion prompts reflections on the effectiveness of the Electoral College in meeting the democratic expectations of the American people.\"\"\",\n",
    "\n",
    "    \"\"\"The Electoral College, conceived as a mechanism to prevent the dominance of densely populated states, has been both praised and criticized. While it aims to balance state interests, concerns persist about its potential to undermine the popular vote. As the nation grapples with questions about electoral fairness, discussions on potential reforms gain traction to align the system more closely with democratic ideals.\"\"\",\n",
    "\n",
    "    \"\"\"The functionality of the Electoral College, deeply ingrained in the U.S. electoral system, has been a subject of scrutiny. While it provides a safeguard against the undue influence of populous states, it has faced criticism for producing outcomes incongruent with the popular vote. The ongoing debate prompts a critical examination of the Electoral College's role in shaping the democratic principles of the nation.\"\"\",\n",
    "\n",
    "    \"\"\"The Electoral College, a cornerstone of the U.S. electoral process, has been a subject of debate regarding its efficacy and democratic alignment. While it aims to prevent the marginalization of smaller states, instances where it has diverged from the popular vote raise questions about its functionality. The ongoing discourse prompts considerations for potential reforms to ensure a more representative electoral system.\"\"\",\n",
    "\n",
    "    \"\"\"The effectiveness of the Electoral College, rooted in the U.S. Constitution, is a subject of ongoing discourse. While it offers protection against the dominance of highly populated states, concerns about its potential to override the popular vote persist. The question of whether the Electoral College works becomes a focal point in discussions about the fairness and representativeness of the U.S. electoral process.\"\"\",\n",
    "\n",
    "    \"\"\"The Electoral College, designed as a compromise to balance state interests, has been a feature of U.S. elections for centuries. While it aims to prevent the domination of populous states, debates about its effectiveness persist. The tension between state and individual representation prompts discussions about potential reforms to align the electoral system more closely with democratic principles.\"\"\",\n",
    "\n",
    "    \"\"\"The role of the Electoral College in the U.S. electoral process has been a subject of ongoing debate. While it provides a safeguard against the dominance of densely populated states, concerns persist regarding its potential to deviate from the popular vote. This prompts a reevaluation of the Electoral College's role in ensuring a fair and representative presidential election.\"\"\",\n",
    "\n",
    "    \"\"\"The Electoral College, as a unique feature of the U.S. electoral system, has faced scrutiny regarding its democratic alignment. While it seeks to balance state interests, criticisms regarding its potential to distort the popular vote persist. The ongoing discourse prompts considerations for potential reforms to enhance the fairness and representativeness of the nation's electoral process.\"\"\",\n",
    "\n",
    "    \"\"\"The question of whether the Electoral College effectively serves its intended purpose remains a central point of discussion in American politics. While it aims to prevent the undue influence of populous states, concerns about its potential to override the popular vote raise questions about its functionality. The ongoing debate prompts reflections on the democratic principles underpinning the U.S. electoral system.\"\"\",\n",
    "\n",
    "    \"\"\"The Electoral College, conceived as a mechanism to prevent the dominance of densely populated states, has played a crucial role in shaping the U.S. presidential election process. While it aims to balance state interests, its potential to produce outcomes inconsistent with the popular vote has fueled discussions about its efficacy and democratic legitimacy. The ongoing debate prompts reflections on the evolving nature of the American electoral landscape.\"\"\",\n",
    "\n",
    "    \"\"\"The functionality of the Electoral College, enshrined in the U.S. Constitution, is a topic of ongoing debate and reflection. While it prevents the marginalization of smaller states, concerns persist about its potential to override the popular vote. The question of whether the Electoral College works as intended becomes a focal point in discussions about the democratic values of the U.S. electoral system.\"\"\",\n",
    "]\n",
    "essays_electoral_college_3 = [\n",
    "    \"\"\"The Electoral College, a fundamental aspect of the U.S. electoral system, has faced persistent scrutiny regarding its effectiveness. While it aims to prevent the dominance of densely populated states, debates about its potential to distort the popular vote fuel discussions on the need for electoral reform. This ongoing discourse prompts a critical examination of the Electoral College's role in shaping the nation's democratic principles.\"\"\",\n",
    "\n",
    "    \"\"\"The question of whether the Electoral College effectively serves its intended purpose remains at the forefront of electoral discussions in the United States. While designed to prevent the marginalization of smaller states, criticisms regarding its potential to override the popular vote prompt reflections on the democratic values embedded in the U.S. electoral system.\"\"\",\n",
    "\n",
    "    \"\"\"The Electoral College, as a product of historical compromise, has been both a stabilizing force and a source of controversy. While it offers protection against the undue influence of populous states, concerns about its potential to deviate from the popular vote have fueled discussions about its efficacy and democratic alignment. The ongoing debate prompts considerations for potential reforms to enhance the fairness and representativeness of the U.S. electoral process.\"\"\",\n",
    "\n",
    "    \"\"\"The Electoral College, entrenched in the U.S. Constitution, has been a central element of American elections. While it aims to balance the influence of states with varying populations, questions persist about its functionality and alignment with democratic principles. The tension between state and individual representation prompts ongoing discussions about the need for potential reforms to ensure a more representative electoral system.\"\"\",\n",
    "\n",
    "    \"\"\"The efficacy of the Electoral College in achieving its intended goals is a matter of ongoing debate. While it seeks to prevent the dominance of densely populated states, instances where it has diverged from the popular vote raise questions about its democratic legitimacy. The ongoing discourse prompts reflections on the evolving nature of the U.S. electoral landscape and the potential for reforms to enhance its fairness.\"\"\",\n",
    "\n",
    "    \"\"\"The Electoral College, with its roots in the founding principles of the United States, remains a subject of scrutiny in modern politics. While it offers a mechanism to prevent the marginalization of smaller states, criticisms about its potential to distort the popular vote persist. This ongoing debate prompts reflections on the democratic ideals underpinning the nation's electoral system and considerations for potential reforms.\"\"\",\n",
    "\n",
    "    \"\"\"The role and functionality of the Electoral College in the U.S. electoral system have been subjects of persistent debate. While it aims to prevent the dominance of densely populated states, concerns about its potential to override the popular vote prompt ongoing discussions about its democratic alignment. The evolving nature of these discussions underscores the need for critical examination and potential reforms.\"\"\",\n",
    "\n",
    "    \"\"\"The Electoral College, conceived as a compromise to address state interests, has been a fixture of American elections. While it aims to balance the influence of states with varying populations, debates persist regarding its potential to produce outcomes inconsistent with the popular vote. The ongoing discourse prompts reflections on the historical significance and potential reforms of the Electoral College to better align with democratic principles.\"\"\",\n",
    "\n",
    "    \"\"\"The question of whether the Electoral College effectively upholds democratic principles remains a central point of discussion. While designed to prevent the undue influence of populous states, criticisms about its potential to deviate from the popular vote fuel ongoing debates. The evolving nature of these discussions prompts considerations for potential reforms to enhance the fairness and representativeness of the U.S. electoral process.\"\"\",\n",
    "\n",
    "    \"\"\"The Electoral College, embedded in the U.S. electoral system, has been both praised for its historical role and criticized for potential shortcomings. While it seeks to balance the influence of states with different populations, concerns persist about its potential to distort the popular vote. This ongoing debate prompts reflections on the democratic ideals that underpin the nation's electoral process and considerations for potential reforms.\"\"\",\n",
    "\n",
    "    \"\"\"The role and efficacy of the Electoral College in American elections are subjects of ongoing debate. While it aims to prevent the marginalization of smaller states, concerns about its potential to override the popular vote raise questions about its democratic legitimacy. The ongoing discourse prompts reflections on the historical significance and potential reforms of the Electoral College to better align with contemporary democratic principles.\"\"\",\n",
    "\n",
    "    \"\"\"The Electoral College, as a unique feature of the U.S. electoral system, has been a subject of scrutiny regarding its functionality. While it provides a safeguard against the dominance of densely populated states, concerns about its potential to distort the popular vote persist. This ongoing debate prompts reflections on the historical significance and potential reforms of the Electoral College to better align with contemporary democratic principles.\"\"\",\n",
    "\n",
    "    \"\"\"The question of whether the Electoral College effectively serves its intended purpose remains a central point of discussion in American politics. While designed to prevent the undue influence of populous states, criticisms about its potential to deviate from the popular vote fuel ongoing debates. The evolving nature of these discussions prompts considerations for potential reforms to enhance the fairness and representativeness of the U.S. electoral process.\"\"\",\n",
    "\n",
    "    \"\"\"The functionality of the Electoral College, rooted in the U.S. Constitution, is a topic of ongoing debate and reflection. While it prevents the marginalization of smaller states, concerns persist about its potential to override the popular vote. The question of whether the Electoral College works as intended becomes a focal point in discussions about the democratic values of the U.S. electoral system.\"\"\",\n",
    "\n",
    "    \"\"\"The Electoral College, conceived as a mechanism to prevent the dominance of densely populated states, has played a crucial role in shaping the U.S. presidential election process. While it aims to balance state interests, its potential to produce outcomes inconsistent with the popular vote has fueled discussions about its efficacy and democratic legitimacy. The ongoing debate prompts reflections on the evolving nature of the American electoral landscape.\"\"\",\n",
    "\n",
    "    \"\"\"The functionality of the Electoral College, entrenched in the U.S. Constitution, remains a topic of ongoing debate. While it provides a safeguard against the undue influence of populous states, concerns about its potential to distort the popular vote persist. This ongoing debate prompts reflections on the historical significance and potential reforms of the Electoral College to better align with contemporary democratic principles.\"\"\",\n",
    "\n",
    "    \"\"\"The question of whether the Electoral College effectively serves its intended purpose remains at the forefront of electoral discussions in the United States. While designed to prevent the marginalization of smaller states, criticisms regarding its potential to override the popular vote prompt reflections on the democratic values embedded in the U.S. electoral system.\"\"\",\n",
    "\n",
    "    \"\"\"The role and functionality of the Electoral College in the U.S. electoral system have been subjects of persistent debate. While it aims to prevent the dominance of densely populated states, concerns about its potential to override the popular vote prompt ongoing discussions about its democratic alignment. The evolving nature of these discussions underscores the need for critical examination and potential reforms.\"\"\",\n",
    "\n",
    "    \"\"\"The Electoral College, as a unique feature of the U.S. electoral system, has been both praised for its historical role and criticized for potential shortcomings. While it seeks to balance the influence of states with different populations, concerns persist about its potential to distort the popular vote. This ongoing debate prompts reflections on the democratic ideals that underpin the nation's electoral process and considerations for potential reforms.\"\"\",\n",
    "\n",
    "    \"\"\"The role and efficacy of the Electoral College in American elections are subjects of ongoing debate. While it aims to prevent the marginalization of smaller states, concerns about its potential to override the popular vote raise questions about its democratic legitimacy. The ongoing discourse prompts reflections on the historical significance and potential reforms of the Electoral College to better align with contemporary democratic principles.\"\"\",\n",
    "\n",
    "    \"\"\"The Electoral College, embedded in the U.S. electoral system, has been both praised for its historical role and criticized for potential shortcomings. While it seeks to balance the influence of states with different populations, concerns persist about its potential to distort the popular vote. This ongoing debate prompts reflections on the democratic ideals that underpin the nation's electoral process and considerations for potential reforms.\"\"\",\n",
    "\n",
    "    \"\"\"The question of whether the Electoral College effectively upholds democratic principles remains a central point of discussion. While designed to prevent the undue influence of populous states, criticisms about its potential to deviate from the popular vote fuel ongoing debates. The evolving nature of these discussions prompts considerations for potential reforms to enhance the fairness and representativeness of the U.S. electoral process.\"\"\",\n",
    "\n",
    "    \"\"\"The functionality of the Electoral College, rooted in the U.S. Constitution, is a topic of ongoing debate and reflection. While it prevents the marginalization of smaller states, concerns persist about its potential to override the popular vote. The question of whether the Electoral College works as intended becomes a focal point in discussions about the democratic values of the U.S. electoral system.\"\"\",\n",
    "\n",
    "    \"\"\"The Electoral College, conceived as a mechanism to prevent the dominance of densely populated states, has played a crucial role in shaping the U.S. presidential election process. While it aims to balance state interests, its potential to produce outcomes inconsistent with the popular vote has fueled discussions about its efficacy and democratic legitimacy. The ongoing debate prompts reflections on the evolving nature of the American electoral landscape.\"\"\",\n",
    "\n",
    "    \"\"\"The functionality of the Electoral College, entrenched in the U.S. Constitution, remains a topic of ongoing debate. While it provides a safeguard against the undue influence of populous states, concerns about its potential to distort the popular vote persist. This ongoing debate prompts reflections on the historical significance and potential reforms of the Electoral College to better align with contemporary democratic principles.\"\"\",\n",
    "]"
   ]
  },
  {
   "cell_type": "code",
   "execution_count": 17,
   "id": "1a4222fa",
   "metadata": {
    "execution": {
     "iopub.execute_input": "2023-12-01T23:09:31.139858Z",
     "iopub.status.busy": "2023-12-01T23:09:31.139568Z",
     "iopub.status.idle": "2023-12-01T23:09:31.145825Z",
     "shell.execute_reply": "2023-12-01T23:09:31.144826Z"
    },
    "papermill": {
     "duration": 0.024553,
     "end_time": "2023-12-01T23:09:31.148005",
     "exception": false,
     "start_time": "2023-12-01T23:09:31.123452",
     "status": "completed"
    },
    "tags": []
   },
   "outputs": [
    {
     "data": {
      "text/plain": [
       "154"
      ]
     },
     "execution_count": 17,
     "metadata": {},
     "output_type": "execute_result"
    }
   ],
   "source": [
    "#total generated essays using ChatGPT\n",
    "ai_generated = chatgpt_essays + chatgpt_essays_3 + chatgpt_esssays_2 + essays_electoral_college + essays_electoral_college_2 + essays_electoral_college_3\n",
    "len(ai_generated)"
   ]
  },
  {
   "cell_type": "code",
   "execution_count": 18,
   "id": "f1b41b4a",
   "metadata": {
    "execution": {
     "iopub.execute_input": "2023-12-01T23:09:31.179579Z",
     "iopub.status.busy": "2023-12-01T23:09:31.179296Z",
     "iopub.status.idle": "2023-12-01T23:09:31.189455Z",
     "shell.execute_reply": "2023-12-01T23:09:31.188628Z"
    },
    "papermill": {
     "duration": 0.028562,
     "end_time": "2023-12-01T23:09:31.191623",
     "exception": false,
     "start_time": "2023-12-01T23:09:31.163061",
     "status": "completed"
    },
    "tags": []
   },
   "outputs": [
    {
     "data": {
      "text/plain": [
       "157"
      ]
     },
     "execution_count": 18,
     "metadata": {},
     "output_type": "execute_result"
    }
   ],
   "source": [
    "ai_generated = ai_generated + train_df[train_df['generated']==1]['text'].tolist()\n",
    "len(ai_generated)"
   ]
  },
  {
   "cell_type": "code",
   "execution_count": 19,
   "id": "ab3cd25a",
   "metadata": {
    "execution": {
     "iopub.execute_input": "2023-12-01T23:09:31.223367Z",
     "iopub.status.busy": "2023-12-01T23:09:31.223030Z",
     "iopub.status.idle": "2023-12-01T23:09:31.235889Z",
     "shell.execute_reply": "2023-12-01T23:09:31.234965Z"
    },
    "papermill": {
     "duration": 0.030825,
     "end_time": "2023-12-01T23:09:31.237864",
     "exception": false,
     "start_time": "2023-12-01T23:09:31.207039",
     "status": "completed"
    },
    "tags": []
   },
   "outputs": [
    {
     "data": {
      "text/plain": [
       "160"
      ]
     },
     "execution_count": 19,
     "metadata": {},
     "output_type": "execute_result"
    }
   ],
   "source": [
    "#Selecting human writtenn from each class randomly\n",
    "human_written_1 = train_df[(train_df['generated'] == 0) & (train_df['prompt_id'] == 1)]['text'].sample(80, random_state=42).tolist()\n",
    "human_written_2 = train_df[(train_df['generated'] == 0) & (train_df['prompt_id'] == 0)]['text'].sample(80, random_state=42).tolist()\n",
    "human_written = human_written_1 + human_written_2\n",
    "len(human_written)"
   ]
  },
  {
   "cell_type": "code",
   "execution_count": 20,
   "id": "5573232d",
   "metadata": {
    "execution": {
     "iopub.execute_input": "2023-12-01T23:09:31.269547Z",
     "iopub.status.busy": "2023-12-01T23:09:31.268906Z",
     "iopub.status.idle": "2023-12-01T23:09:31.275899Z",
     "shell.execute_reply": "2023-12-01T23:09:31.274774Z"
    },
    "papermill": {
     "duration": 0.025899,
     "end_time": "2023-12-01T23:09:31.278629",
     "exception": false,
     "start_time": "2023-12-01T23:09:31.252730",
     "status": "completed"
    },
    "tags": []
   },
   "outputs": [
    {
     "name": "stdout",
     "output_type": "stream",
     "text": [
      "[0, 0, 0, 0, 0, 0, 0, 0, 0, 0, 0, 0, 0, 0, 0, 0, 0, 0, 0, 0, 0, 0, 0, 0, 0, 0, 0, 0, 0, 0, 0, 0, 0, 0, 0, 0, 0, 0, 0, 0, 0, 0, 0, 0, 0, 0, 0, 0, 0, 0, 0, 0, 0, 0, 0, 0, 0, 0, 0, 0, 0, 0, 0, 0, 0, 0, 0, 0, 0, 0, 0, 0, 0, 0, 0, 0, 0, 0, 0, 0, 0, 0, 0, 0, 0, 0, 0, 0, 0, 0, 0, 0, 0, 0, 0, 0, 0, 0, 0, 0, 0, 0, 0, 0, 0, 0, 0, 0, 0, 0, 0, 0, 0, 0, 0, 0, 0, 0, 0, 0, 0, 0, 0, 0, 0, 0, 0, 0, 0, 0, 0, 0, 0, 0, 0, 0, 0, 0, 0, 0, 0, 0, 0, 0, 0, 0, 0, 0, 0, 0, 0, 0, 0, 0, 0, 0, 0, 0, 0, 0, 1, 1, 1, 1, 1, 1, 1, 1, 1, 1, 1, 1, 1, 1, 1, 1, 1, 1, 1, 1, 1, 1, 1, 1, 1, 1, 1, 1, 1, 1, 1, 1, 1, 1, 1, 1, 1, 1, 1, 1, 1, 1, 1, 1, 1, 1, 1, 1, 1, 1, 1, 1, 1, 1, 1, 1, 1, 1, 1, 1, 1, 1, 1, 1, 1, 1, 1, 1, 1, 1, 1, 1, 1, 1, 1, 1, 1, 1, 1, 1, 1, 1, 1, 1, 1, 1, 1, 1, 1, 1, 1, 1, 1, 1, 1, 1, 1, 1, 1, 1, 1, 1, 1, 1, 1, 1, 1, 1, 1, 1, 1, 1, 1, 1, 1, 1, 1, 1, 1, 1, 1, 1, 1, 1, 1, 1, 1, 1, 1, 1, 1, 1, 1, 1, 1, 1, 1, 1, 1, 1, 1, 1, 1, 1, 1, 1, 1, 1, 1, 1, 1, 1, 1, 1, 1, 1, 1]\n"
     ]
    },
    {
     "data": {
      "text/plain": [
       "317"
      ]
     },
     "execution_count": 20,
     "metadata": {},
     "output_type": "execute_result"
    }
   ],
   "source": [
    "import numpy as np\n",
    "human_labels = [0]*len(human_written)\n",
    "ai_labels = [1]*len(ai_generated)\n",
    "y = human_labels + ai_labels\n",
    "print(y)\n",
    "len(y)"
   ]
  },
  {
   "cell_type": "code",
   "execution_count": 21,
   "id": "6797bf2d",
   "metadata": {
    "execution": {
     "iopub.execute_input": "2023-12-01T23:09:31.311614Z",
     "iopub.status.busy": "2023-12-01T23:09:31.311307Z",
     "iopub.status.idle": "2023-12-01T23:09:31.316800Z",
     "shell.execute_reply": "2023-12-01T23:09:31.315872Z"
    },
    "papermill": {
     "duration": 0.024512,
     "end_time": "2023-12-01T23:09:31.318736",
     "exception": false,
     "start_time": "2023-12-01T23:09:31.294224",
     "status": "completed"
    },
    "tags": []
   },
   "outputs": [
    {
     "data": {
      "text/plain": [
       "317"
      ]
     },
     "execution_count": 21,
     "metadata": {},
     "output_type": "execute_result"
    }
   ],
   "source": [
    "texts = list(human_written) + list(ai_generated)\n",
    "\n",
    "len(texts)"
   ]
  },
  {
   "cell_type": "code",
   "execution_count": 22,
   "id": "6df26653",
   "metadata": {
    "execution": {
     "iopub.execute_input": "2023-12-01T23:09:31.351529Z",
     "iopub.status.busy": "2023-12-01T23:09:31.351190Z",
     "iopub.status.idle": "2023-12-01T23:09:31.361072Z",
     "shell.execute_reply": "2023-12-01T23:09:31.360066Z"
    },
    "papermill": {
     "duration": 0.030272,
     "end_time": "2023-12-01T23:09:31.364013",
     "exception": false,
     "start_time": "2023-12-01T23:09:31.333741",
     "status": "completed"
    },
    "tags": []
   },
   "outputs": [
    {
     "name": "stdout",
     "output_type": "stream",
     "text": [
      "                                                 texts  label\n",
      "0    Dear State Senator, we should not keep the Ele...      0\n",
      "1    Dear State Senator, The Electoral College is a...      0\n",
      "2    The Electoral Collage has been around for a lo...      0\n",
      "3    Dear United States Senator, Voting in the Unit...      0\n",
      "4    Dear State Senator, I am writing you a letter ...      0\n",
      "..                                                 ...    ...\n",
      "312  The Electoral College, conceived as a mechanis...      1\n",
      "313  The functionality of the Electoral College, en...      1\n",
      "314  This essay will analyze, discuss and prove one...      1\n",
      "315  I strongly believe that the Electoral College ...      1\n",
      "316  Limiting car use causes pollution, increases c...      1\n",
      "\n",
      "[317 rows x 2 columns]\n"
     ]
    }
   ],
   "source": [
    "#Final Data\n",
    "df = pd.DataFrame({'texts': texts, 'label': y})\n",
    "\n",
    "# Display the DataFrame\n",
    "print(df)\n"
   ]
  },
  {
   "cell_type": "code",
   "execution_count": 23,
   "id": "103891c5",
   "metadata": {
    "execution": {
     "iopub.execute_input": "2023-12-01T23:09:31.396782Z",
     "iopub.status.busy": "2023-12-01T23:09:31.396413Z",
     "iopub.status.idle": "2023-12-01T23:09:31.411659Z",
     "shell.execute_reply": "2023-12-01T23:09:31.410766Z"
    },
    "papermill": {
     "duration": 0.033703,
     "end_time": "2023-12-01T23:09:31.413689",
     "exception": false,
     "start_time": "2023-12-01T23:09:31.379986",
     "status": "completed"
    },
    "tags": []
   },
   "outputs": [
    {
     "data": {
      "text/html": [
       "<div>\n",
       "<style scoped>\n",
       "    .dataframe tbody tr th:only-of-type {\n",
       "        vertical-align: middle;\n",
       "    }\n",
       "\n",
       "    .dataframe tbody tr th {\n",
       "        vertical-align: top;\n",
       "    }\n",
       "\n",
       "    .dataframe thead th {\n",
       "        text-align: right;\n",
       "    }\n",
       "</style>\n",
       "<table border=\"1\" class=\"dataframe\">\n",
       "  <thead>\n",
       "    <tr style=\"text-align: right;\">\n",
       "      <th></th>\n",
       "      <th>texts</th>\n",
       "      <th>label</th>\n",
       "    </tr>\n",
       "  </thead>\n",
       "  <tbody>\n",
       "    <tr>\n",
       "      <th>0</th>\n",
       "      <td>dear state senator we should not keep the elec...</td>\n",
       "      <td>0</td>\n",
       "    </tr>\n",
       "    <tr>\n",
       "      <th>1</th>\n",
       "      <td>dear state senator the electoral college is a ...</td>\n",
       "      <td>0</td>\n",
       "    </tr>\n",
       "    <tr>\n",
       "      <th>2</th>\n",
       "      <td>the electoral collage has been around for a lo...</td>\n",
       "      <td>0</td>\n",
       "    </tr>\n",
       "    <tr>\n",
       "      <th>3</th>\n",
       "      <td>dear united states senator voting in the unite...</td>\n",
       "      <td>0</td>\n",
       "    </tr>\n",
       "    <tr>\n",
       "      <th>4</th>\n",
       "      <td>dear state senator i am writing you a letter i...</td>\n",
       "      <td>0</td>\n",
       "    </tr>\n",
       "  </tbody>\n",
       "</table>\n",
       "</div>"
      ],
      "text/plain": [
       "                                               texts  label\n",
       "0  dear state senator we should not keep the elec...      0\n",
       "1  dear state senator the electoral college is a ...      0\n",
       "2  the electoral collage has been around for a lo...      0\n",
       "3  dear united states senator voting in the unite...      0\n",
       "4  dear state senator i am writing you a letter i...      0"
      ]
     },
     "execution_count": 23,
     "metadata": {},
     "output_type": "execute_result"
    }
   ],
   "source": [
    "import string\n",
    "\n",
    "def preprocess_text(text):\n",
    "    # Remove punctuation\n",
    "    translator = str.maketrans('', '', string.punctuation)\n",
    "    text_no_punct = text.translate(translator)\n",
    "\n",
    "    # Convert to lowercase\n",
    "    text_lower = text_no_punct.lower()\n",
    "\n",
    "    return text_lower\n",
    "df['texts'] = df['texts'].apply(preprocess_text)\n",
    "df.head()"
   ]
  },
  {
   "cell_type": "markdown",
   "id": "af844b92",
   "metadata": {
    "papermill": {
     "duration": 0.016046,
     "end_time": "2023-12-01T23:09:31.445926",
     "exception": false,
     "start_time": "2023-12-01T23:09:31.429880",
     "status": "completed"
    },
    "tags": []
   },
   "source": [
    "### Naive Bayes"
   ]
  },
  {
   "cell_type": "code",
   "execution_count": 24,
   "id": "9aca3b24",
   "metadata": {
    "execution": {
     "iopub.execute_input": "2023-12-01T23:09:31.479299Z",
     "iopub.status.busy": "2023-12-01T23:09:31.478924Z",
     "iopub.status.idle": "2023-12-01T23:09:33.120097Z",
     "shell.execute_reply": "2023-12-01T23:09:33.119316Z"
    },
    "papermill": {
     "duration": 1.660962,
     "end_time": "2023-12-01T23:09:33.122823",
     "exception": false,
     "start_time": "2023-12-01T23:09:31.461861",
     "status": "completed"
    },
    "tags": []
   },
   "outputs": [],
   "source": [
    "#Build Vocabularies\n",
    "from collections import Counter\n",
    "from nltk.tokenize import word_tokenize\n",
    "from nltk.corpus import stopwords"
   ]
  },
  {
   "cell_type": "code",
   "execution_count": 25,
   "id": "1ee918f6",
   "metadata": {
    "execution": {
     "iopub.execute_input": "2023-12-01T23:09:33.158471Z",
     "iopub.status.busy": "2023-12-01T23:09:33.157390Z",
     "iopub.status.idle": "2023-12-01T23:09:33.166809Z",
     "shell.execute_reply": "2023-12-01T23:09:33.166095Z"
    },
    "papermill": {
     "duration": 0.028968,
     "end_time": "2023-12-01T23:09:33.168724",
     "exception": false,
     "start_time": "2023-12-01T23:09:33.139756",
     "status": "completed"
    },
    "tags": []
   },
   "outputs": [],
   "source": [
    "def build_vocabulary(texts):\n",
    "    \"\"\"\n",
    "    Build a vocabulary from a list of texts.\n",
    "    Returns a set of unique words.\n",
    "    \"\"\"\n",
    "    vocabulary = set()\n",
    "\n",
    "    for text in texts:\n",
    "        # Tokenize the text\n",
    "        words = word_tokenize(text.lower())\n",
    "\n",
    "        # Remove stopwords\n",
    "        stop_words = set(stopwords.words('english'))\n",
    "        filtered_words = [word for word in words if word not in stop_words]\n",
    "\n",
    "        # Add unique words to the vocabulary\n",
    "        vocabulary.update(filtered_words)\n",
    "\n",
    "    return vocabulary\n",
    "\n",
    "def get_top_words(texts, top_n=10):\n",
    "    \"\"\"\n",
    "    Get the top N words based on their frequency in a list of texts.\n",
    "    Returns a list of tuples (word, frequency).\n",
    "    \"\"\"\n",
    "    # Tokenize and preprocess each text\n",
    "    tokenized_texts = [word_tokenize(text.lower()) for text in texts]\n",
    "\n",
    "    # Flatten the list of lists\n",
    "    all_words = [word for sublist in tokenized_texts for word in sublist]\n",
    "\n",
    "    # Remove stopwords\n",
    "    stop_words = set(stopwords.words('english'))\n",
    "    filtered_words = [word for word in all_words if word not in stop_words]\n",
    "\n",
    "    # Count word frequencies\n",
    "    word_freq = Counter(filtered_words)\n",
    "\n",
    "    # Get the top N words\n",
    "    top_words = word_freq.most_common(top_n)\n",
    "\n",
    "    return top_words"
   ]
  },
  {
   "cell_type": "code",
   "execution_count": 26,
   "id": "cc6890c6",
   "metadata": {
    "execution": {
     "iopub.execute_input": "2023-12-01T23:09:33.202602Z",
     "iopub.status.busy": "2023-12-01T23:09:33.201545Z",
     "iopub.status.idle": "2023-12-01T23:09:34.135708Z",
     "shell.execute_reply": "2023-12-01T23:09:34.134786Z"
    },
    "papermill": {
     "duration": 0.953534,
     "end_time": "2023-12-01T23:09:34.138080",
     "exception": false,
     "start_time": "2023-12-01T23:09:33.184546",
     "status": "completed"
    },
    "tags": []
   },
   "outputs": [],
   "source": [
    "human_vocab = build_vocabulary(df[df['label']==0]['texts'].tolist())\n",
    "llm_vocab = build_vocabulary(df[df['label']==1]['texts'].tolist())"
   ]
  },
  {
   "cell_type": "code",
   "execution_count": 27,
   "id": "51d40af7",
   "metadata": {
    "execution": {
     "iopub.execute_input": "2023-12-01T23:09:34.172474Z",
     "iopub.status.busy": "2023-12-01T23:09:34.172143Z",
     "iopub.status.idle": "2023-12-01T23:09:34.179516Z",
     "shell.execute_reply": "2023-12-01T23:09:34.178512Z"
    },
    "papermill": {
     "duration": 0.027165,
     "end_time": "2023-12-01T23:09:34.181775",
     "exception": false,
     "start_time": "2023-12-01T23:09:34.154610",
     "status": "completed"
    },
    "tags": []
   },
   "outputs": [
    {
     "data": {
      "text/plain": [
       "['ares',\n",
       " 'posner',\n",
       " 'influencing',\n",
       " 'experienced',\n",
       " 'promoted',\n",
       " 'moeny',\n",
       " 'par32people',\n",
       " 'accident',\n",
       " 'focuses',\n",
       " 'bu',\n",
       " 'individuals',\n",
       " 'extora',\n",
       " 'dole',\n",
       " 'safe',\n",
       " 'employees',\n",
       " 'coming',\n",
       " 'storngly',\n",
       " 'reuters',\n",
       " 'un',\n",
       " 'collectoion',\n",
       " 'ur',\n",
       " 'suvi',\n",
       " 'americasource',\n",
       " 'arguments',\n",
       " 'stable',\n",
       " 'inhabitants',\n",
       " 'effie',\n",
       " 'concept',\n",
       " 'prefer',\n",
       " 'asks',\n",
       " 'half',\n",
       " 'improves',\n",
       " 'recent',\n",
       " 'completley',\n",
       " 'destroyed',\n",
       " 'computers',\n",
       " 'within',\n",
       " 'onegatively',\n",
       " 'te',\n",
       " 'converging',\n",
       " 'pull',\n",
       " 'worrying',\n",
       " 'supporters',\n",
       " 'necklace',\n",
       " 'commerce',\n",
       " 'single',\n",
       " 'electricity',\n",
       " 'unites',\n",
       " 'p18',\n",
       " 'efficieoncy']"
      ]
     },
     "execution_count": 27,
     "metadata": {},
     "output_type": "execute_result"
    }
   ],
   "source": [
    "list(human_vocab)[:50]"
   ]
  },
  {
   "cell_type": "code",
   "execution_count": 28,
   "id": "33cce02a",
   "metadata": {
    "execution": {
     "iopub.execute_input": "2023-12-01T23:09:34.217285Z",
     "iopub.status.busy": "2023-12-01T23:09:34.216950Z",
     "iopub.status.idle": "2023-12-01T23:09:34.224031Z",
     "shell.execute_reply": "2023-12-01T23:09:34.223142Z"
    },
    "papermill": {
     "duration": 0.026829,
     "end_time": "2023-12-01T23:09:34.226086",
     "exception": false,
     "start_time": "2023-12-01T23:09:34.199257",
     "status": "completed"
    },
    "tags": []
   },
   "outputs": [
    {
     "data": {
      "text/plain": [
       "['navigate',\n",
       " 'change',\n",
       " 'unique',\n",
       " 'accommodates',\n",
       " 'task',\n",
       " 'areas',\n",
       " 'environmentally',\n",
       " 'equity',\n",
       " 'fundamental',\n",
       " 'compromising',\n",
       " 'places',\n",
       " 'gain',\n",
       " 'successfully',\n",
       " 'local',\n",
       " 'vibrant',\n",
       " 'progressive',\n",
       " 'representativeness',\n",
       " 'citizen',\n",
       " 'momentum',\n",
       " 'electric',\n",
       " 'starting',\n",
       " 'ability',\n",
       " 'shared',\n",
       " 'key',\n",
       " 'improved',\n",
       " 'accident',\n",
       " 'lead',\n",
       " 'densely',\n",
       " 'transforming',\n",
       " 'onto',\n",
       " 'redefining',\n",
       " 'still',\n",
       " 'increased',\n",
       " 'individuals',\n",
       " 'global',\n",
       " 'controversy',\n",
       " 'drastic',\n",
       " 'intended',\n",
       " 'implemented',\n",
       " 'strike',\n",
       " 'vehicular',\n",
       " 'forefront',\n",
       " 'land',\n",
       " 'becomes',\n",
       " 'helps',\n",
       " 'carfree',\n",
       " 'bound',\n",
       " 'belonging',\n",
       " 'promise',\n",
       " 'pushed']"
      ]
     },
     "execution_count": 28,
     "metadata": {},
     "output_type": "execute_result"
    }
   ],
   "source": [
    "list(llm_vocab)[0:50]"
   ]
  },
  {
   "cell_type": "code",
   "execution_count": 29,
   "id": "d85f00a0",
   "metadata": {
    "execution": {
     "iopub.execute_input": "2023-12-01T23:09:34.260028Z",
     "iopub.status.busy": "2023-12-01T23:09:34.259731Z",
     "iopub.status.idle": "2023-12-01T23:09:35.023410Z",
     "shell.execute_reply": "2023-12-01T23:09:35.022466Z"
    },
    "papermill": {
     "duration": 0.783395,
     "end_time": "2023-12-01T23:09:35.025799",
     "exception": false,
     "start_time": "2023-12-01T23:09:34.242404",
     "status": "completed"
    },
    "tags": []
   },
   "outputs": [
    {
     "data": {
      "text/plain": [
       "[('electoral', 918),\n",
       " ('people', 842),\n",
       " ('vote', 755),\n",
       " ('college', 734),\n",
       " ('cars', 704),\n",
       " ('car', 635),\n",
       " ('states', 524),\n",
       " ('would', 461),\n",
       " ('president', 426),\n",
       " ('electors', 351),\n",
       " ('votes', 350),\n",
       " ('popular', 289),\n",
       " ('one', 282),\n",
       " ('state', 267),\n",
       " ('voters', 262),\n",
       " ('many', 257),\n",
       " ('even', 257),\n",
       " ('get', 256),\n",
       " ('election', 245),\n",
       " ('use', 241)]"
      ]
     },
     "execution_count": 29,
     "metadata": {},
     "output_type": "execute_result"
    }
   ],
   "source": [
    "top_20_humanwords = get_top_words(df[df['label']==0]['texts'].tolist(),20)\n",
    "top_20_humanwords"
   ]
  },
  {
   "cell_type": "code",
   "execution_count": 30,
   "id": "a63415ce",
   "metadata": {
    "execution": {
     "iopub.execute_input": "2023-12-01T23:09:35.061714Z",
     "iopub.status.busy": "2023-12-01T23:09:35.061319Z",
     "iopub.status.idle": "2023-12-01T23:09:35.164278Z",
     "shell.execute_reply": "2023-12-01T23:09:35.163349Z"
    },
    "papermill": {
     "duration": 0.123629,
     "end_time": "2023-12-01T23:09:35.166380",
     "exception": false,
     "start_time": "2023-12-01T23:09:35.042751",
     "status": "completed"
    },
    "tags": []
   },
   "outputs": [
    {
     "data": {
      "text/plain": [
       "[('electoral', 150),\n",
       " ('carfree', 113),\n",
       " ('cities', 98),\n",
       " ('college', 81),\n",
       " ('states', 78),\n",
       " ('urban', 76),\n",
       " ('potential', 66),\n",
       " ('vote', 64),\n",
       " ('popular', 56),\n",
       " ('transportation', 54),\n",
       " ('ongoing', 47),\n",
       " ('democratic', 46),\n",
       " ('us', 41),\n",
       " ('initiatives', 37),\n",
       " ('public', 34),\n",
       " ('residents', 34),\n",
       " ('prompts', 33),\n",
       " ('debate', 32),\n",
       " ('discussions', 32),\n",
       " ('traffic', 29)]"
      ]
     },
     "execution_count": 30,
     "metadata": {},
     "output_type": "execute_result"
    }
   ],
   "source": [
    "top_20_llmwords = get_top_words(df[df['label']==1]['texts'].tolist(),20)\n",
    "top_20_llmwords"
   ]
  },
  {
   "cell_type": "code",
   "execution_count": 31,
   "id": "7c42d298",
   "metadata": {
    "execution": {
     "iopub.execute_input": "2023-12-01T23:09:35.201575Z",
     "iopub.status.busy": "2023-12-01T23:09:35.201160Z",
     "iopub.status.idle": "2023-12-01T23:09:35.209165Z",
     "shell.execute_reply": "2023-12-01T23:09:35.208148Z"
    },
    "papermill": {
     "duration": 0.027649,
     "end_time": "2023-12-01T23:09:35.210957",
     "exception": false,
     "start_time": "2023-12-01T23:09:35.183308",
     "status": "completed"
    },
    "tags": []
   },
   "outputs": [],
   "source": [
    "#Splitting the data\n",
    "from sklearn.model_selection import train_test_split\n",
    "train_df, dev_df = train_test_split(df, test_size=0.2, random_state=42)"
   ]
  },
  {
   "cell_type": "code",
   "execution_count": 32,
   "id": "d2c62f52",
   "metadata": {
    "execution": {
     "iopub.execute_input": "2023-12-01T23:09:35.246060Z",
     "iopub.status.busy": "2023-12-01T23:09:35.245681Z",
     "iopub.status.idle": "2023-12-01T23:09:35.250355Z",
     "shell.execute_reply": "2023-12-01T23:09:35.249478Z"
    },
    "papermill": {
     "duration": 0.024051,
     "end_time": "2023-12-01T23:09:35.252174",
     "exception": false,
     "start_time": "2023-12-01T23:09:35.228123",
     "status": "completed"
    },
    "tags": []
   },
   "outputs": [],
   "source": [
    "documents = train_df['texts']\n",
    "labels = train_df['label']"
   ]
  },
  {
   "cell_type": "code",
   "execution_count": 33,
   "id": "266e952f",
   "metadata": {
    "execution": {
     "iopub.execute_input": "2023-12-01T23:09:35.288030Z",
     "iopub.status.busy": "2023-12-01T23:09:35.287677Z",
     "iopub.status.idle": "2023-12-01T23:09:35.923969Z",
     "shell.execute_reply": "2023-12-01T23:09:35.921158Z"
    },
    "papermill": {
     "duration": 0.658871,
     "end_time": "2023-12-01T23:09:35.927941",
     "exception": false,
     "start_time": "2023-12-01T23:09:35.269070",
     "status": "completed"
    },
    "tags": []
   },
   "outputs": [
    {
     "name": "stdout",
     "output_type": "stream",
     "text": [
      "For alpha value: 0.0 Accuracy: 1.0\n",
      "For alpha value: 0.1 Accuracy: 1.0\n",
      "For alpha value: 0.5 Accuracy: 1.0\n",
      "For alpha value: 1.0 Accuracy: 1.0\n",
      "For alpha value: 5.0 Accuracy: 1.0\n",
      "For Best Alpha value: 0.0 Accuracy: 1.0\n",
      "Top words for class '0': the, to, of, a, in, and, is, that, for, it\n",
      "Top words for class '1': the, of, and, to, a, electoral, for, in, carfree, its\n"
     ]
    }
   ],
   "source": [
    "import re\n",
    "from collections import defaultdict\n",
    "from math import log, exp\n",
    "\n",
    "class NaiveBayesClassifier:\n",
    "    def __init__(self):\n",
    "        self.class_probs = defaultdict(float)\n",
    "        self.word_probs = defaultdict(lambda: defaultdict(float))\n",
    "        self.classes = set()\n",
    "\n",
    "    def train(self, documents, labels, alpha):\n",
    "        # Count occurrences of each class\n",
    "        class_counts = defaultdict(int)\n",
    "        for label in labels:\n",
    "            class_counts[label] += 1\n",
    "            self.classes.add(label)\n",
    "\n",
    "        total_documents = len(labels)\n",
    "\n",
    "        # Calculate class probabilities\n",
    "        for label, count in class_counts.items():\n",
    "            self.class_probs[label] = count / total_documents\n",
    "\n",
    "        # Count word occurrences in each class with Laplace smoothing\n",
    "        word_counts = defaultdict(lambda: defaultdict(int))\n",
    "\n",
    "        for doc, label in zip(documents, labels):\n",
    "            words = re.findall(r'\\b\\w+\\b', doc.lower())\n",
    "            for word in words:\n",
    "                word_counts[label][word] += 1\n",
    "\n",
    "        # Calculate word probabilities for each class with Laplace smoothing\n",
    "        for label in self.classes:\n",
    "            total_words_in_class = sum(word_counts[label].values())\n",
    "            total_unique_words = len(set(word_counts[label].keys()))\n",
    "\n",
    "            for word, count in word_counts[label].items():\n",
    "                self.word_probs[label][word] = (count + alpha) / (total_words_in_class + alpha * total_unique_words)\n",
    "                \n",
    "    def get_top_words_per_class(self, top_n=10):\n",
    "        top_words_per_class = defaultdict(list)\n",
    "\n",
    "        for label in self.classes:\n",
    "            word_probabilities = self.word_probs[label]\n",
    "            top_words = sorted(word_probabilities, key=word_probabilities.get, reverse=True)[:top_n]\n",
    "            top_words_per_class[label] = top_words\n",
    "\n",
    "        return top_words_per_class\n",
    "\n",
    "    def predict(self, documents):\n",
    "        # Assuming 'documents' is a list of documents\n",
    "        probabilities_list = []\n",
    "\n",
    "        for document in documents:\n",
    "            words = re.findall(r'\\b\\w+\\b', str(document).lower())\n",
    "            scores = defaultdict(float)\n",
    "\n",
    "            for label in self.classes:\n",
    "                scores[label] = log(self.class_probs[label])\n",
    "\n",
    "                for word in words:\n",
    "                    scores[label] += log(self.word_probs[label].get(word, 1e-10))\n",
    "\n",
    "            exp_scores = {label: exp(score) for label, score in scores.items()}\n",
    "            sum_exp_scores = sum(exp_scores.values())\n",
    "\n",
    "            if sum_exp_scores == 0:\n",
    "                probabilities = {label: 1 / len(self.classes) for label in self.classes}\n",
    "            else:\n",
    "                probabilities = {label: exp_score / sum_exp_scores for label, exp_score in exp_scores.items()}\n",
    "\n",
    "            probabilities_list.append(probabilities)\n",
    "\n",
    "        return probabilities_list\n",
    "\n",
    "\n",
    "\n",
    "\n",
    "# Create and train the classifier\n",
    "alpha = [0.0, 0.1, 0.5, 1.0, 5.0]\n",
    "\n",
    "\n",
    "dev_data_documents = dev_df['texts']\n",
    "dev_data_labels = dev_df['label']\n",
    "best_accuracy = 0\n",
    "best_alpha = 0\n",
    "for alpha_val in alpha:\n",
    "    result = []\n",
    "    classifier = NaiveBayesClassifier()\n",
    "    classifier.train(documents, labels, alpha_val)\n",
    "    train_prob_list = classifier.predict(dev_data_documents)\n",
    "    for i in range(len(train_prob_list)):\n",
    "        if(train_prob_list[i][0] >= train_prob_list[i][1]):\n",
    "            result.append(0)\n",
    "        else:\n",
    "            result.append(1)\n",
    "    count = 0\n",
    "    for i in range(len(result)):\n",
    "        if(result[i] == dev_data_labels.iloc[i]):\n",
    "            count = count + 1\n",
    "\n",
    "    accuracy = count / len(result)\n",
    "    \n",
    "    if(accuracy > best_accuracy):\n",
    "        best_accuracy = accuracy\n",
    "        best_alpha = alpha_val\n",
    "    \n",
    "    print(\"For alpha value:\", alpha_val, \"Accuracy:\", accuracy)\n",
    "    \n",
    "print(\"For Best Alpha value:\", best_alpha, \"Accuracy:\", best_accuracy)\n",
    "\n",
    "best_classifier = NaiveBayesClassifier()\n",
    "best_classifier.train(documents, labels, best_alpha)\n",
    "top_words = best_classifier.get_top_words_per_class()\n",
    "for label, words in top_words.items():\n",
    "    print(f\"Top words for class '{label}': {', '.join(words)}\")"
   ]
  },
  {
   "cell_type": "code",
   "execution_count": 34,
   "id": "7fa933ab",
   "metadata": {
    "execution": {
     "iopub.execute_input": "2023-12-01T23:09:35.967165Z",
     "iopub.status.busy": "2023-12-01T23:09:35.966775Z",
     "iopub.status.idle": "2023-12-01T23:09:36.005207Z",
     "shell.execute_reply": "2023-12-01T23:09:36.004299Z"
    },
    "papermill": {
     "duration": 0.062002,
     "end_time": "2023-12-01T23:09:36.007418",
     "exception": false,
     "start_time": "2023-12-01T23:09:35.945416",
     "status": "completed"
    },
    "tags": []
   },
   "outputs": [],
   "source": [
    "dev_data_documents = dev_df['texts']\n",
    "dev_data_labels = dev_df['label']\n",
    "train_prob_list = best_classifier.predict(dev_data_documents)"
   ]
  },
  {
   "cell_type": "code",
   "execution_count": 35,
   "id": "f6d78882",
   "metadata": {
    "execution": {
     "iopub.execute_input": "2023-12-01T23:09:36.043257Z",
     "iopub.status.busy": "2023-12-01T23:09:36.042885Z",
     "iopub.status.idle": "2023-12-01T23:09:36.048057Z",
     "shell.execute_reply": "2023-12-01T23:09:36.047177Z"
    },
    "papermill": {
     "duration": 0.025473,
     "end_time": "2023-12-01T23:09:36.049868",
     "exception": false,
     "start_time": "2023-12-01T23:09:36.024395",
     "status": "completed"
    },
    "tags": []
   },
   "outputs": [],
   "source": [
    "test_df['text'] = test_df['text'].apply(preprocess_text)"
   ]
  },
  {
   "cell_type": "code",
   "execution_count": 36,
   "id": "f4378dd4",
   "metadata": {
    "execution": {
     "iopub.execute_input": "2023-12-01T23:09:36.085613Z",
     "iopub.status.busy": "2023-12-01T23:09:36.084648Z",
     "iopub.status.idle": "2023-12-01T23:09:36.090179Z",
     "shell.execute_reply": "2023-12-01T23:09:36.089287Z"
    },
    "papermill": {
     "duration": 0.024969,
     "end_time": "2023-12-01T23:09:36.091968",
     "exception": false,
     "start_time": "2023-12-01T23:09:36.066999",
     "status": "completed"
    },
    "tags": []
   },
   "outputs": [
    {
     "name": "stdout",
     "output_type": "stream",
     "text": [
      "[{0: 0.5019762845849818, 1: 0.4980237154150182}, {0: 0.5019762845849818, 1: 0.4980237154150182}, {0: 0.5019762845849818, 1: 0.4980237154150182}]\n"
     ]
    }
   ],
   "source": [
    "test_documents = test_df['text']\n",
    "probabilities_list = classifier.predict(test_documents)\n",
    "\n",
    "print(probabilities_list)"
   ]
  },
  {
   "cell_type": "code",
   "execution_count": 37,
   "id": "b9148f3a",
   "metadata": {
    "execution": {
     "iopub.execute_input": "2023-12-01T23:09:36.128911Z",
     "iopub.status.busy": "2023-12-01T23:09:36.127805Z",
     "iopub.status.idle": "2023-12-01T23:09:36.133295Z",
     "shell.execute_reply": "2023-12-01T23:09:36.132379Z"
    },
    "papermill": {
     "duration": 0.025469,
     "end_time": "2023-12-01T23:09:36.135262",
     "exception": false,
     "start_time": "2023-12-01T23:09:36.109793",
     "status": "completed"
    },
    "tags": []
   },
   "outputs": [],
   "source": [
    "proba = []\n",
    "for i in probabilities_list:\n",
    "    proba.append(i[1])\n",
    "\n",
    "predicted = np.array(proba)"
   ]
  },
  {
   "cell_type": "code",
   "execution_count": null,
   "id": "8647ed37",
   "metadata": {
    "papermill": {
     "duration": 0.016665,
     "end_time": "2023-12-01T23:09:36.168588",
     "exception": false,
     "start_time": "2023-12-01T23:09:36.151923",
     "status": "completed"
    },
    "tags": []
   },
   "outputs": [],
   "source": []
  },
  {
   "cell_type": "code",
   "execution_count": 38,
   "id": "0d0b462a",
   "metadata": {
    "execution": {
     "iopub.execute_input": "2023-12-01T23:09:36.204123Z",
     "iopub.status.busy": "2023-12-01T23:09:36.203428Z",
     "iopub.status.idle": "2023-12-01T23:09:36.211228Z",
     "shell.execute_reply": "2023-12-01T23:09:36.210448Z"
    },
    "papermill": {
     "duration": 0.027443,
     "end_time": "2023-12-01T23:09:36.213034",
     "exception": false,
     "start_time": "2023-12-01T23:09:36.185591",
     "status": "completed"
    },
    "tags": []
   },
   "outputs": [],
   "source": [
    "output= pd.DataFrame({'id':test_df[\"id\"],'generated':predicted})\n",
    "output.to_csv('submission.csv', index=False)"
   ]
  },
  {
   "cell_type": "code",
   "execution_count": null,
   "id": "208a92ca",
   "metadata": {
    "papermill": {
     "duration": 0.016795,
     "end_time": "2023-12-01T23:09:36.246566",
     "exception": false,
     "start_time": "2023-12-01T23:09:36.229771",
     "status": "completed"
    },
    "tags": []
   },
   "outputs": [],
   "source": []
  },
  {
   "cell_type": "code",
   "execution_count": null,
   "id": "e89c6be7",
   "metadata": {
    "papermill": {
     "duration": 0.016791,
     "end_time": "2023-12-01T23:09:36.279664",
     "exception": false,
     "start_time": "2023-12-01T23:09:36.262873",
     "status": "completed"
    },
    "tags": []
   },
   "outputs": [],
   "source": []
  }
 ],
 "metadata": {
  "kaggle": {
   "accelerator": "none",
   "dataSources": [
    {
     "databundleVersionId": 6888007,
     "sourceId": 61542,
     "sourceType": "competition"
    }
   ],
   "dockerImageVersionId": 30587,
   "isGpuEnabled": false,
   "isInternetEnabled": false,
   "language": "python",
   "sourceType": "notebook"
  },
  "kernelspec": {
   "display_name": "Python 3",
   "language": "python",
   "name": "python3"
  },
  "language_info": {
   "codemirror_mode": {
    "name": "ipython",
    "version": 3
   },
   "file_extension": ".py",
   "mimetype": "text/x-python",
   "name": "python",
   "nbconvert_exporter": "python",
   "pygments_lexer": "ipython3",
   "version": "3.10.12"
  },
  "papermill": {
   "default_parameters": {},
   "duration": 10.125628,
   "end_time": "2023-12-01T23:09:36.815616",
   "environment_variables": {},
   "exception": null,
   "input_path": "__notebook__.ipynb",
   "output_path": "__notebook__.ipynb",
   "parameters": {},
   "start_time": "2023-12-01T23:09:26.689988",
   "version": "2.4.0"
  }
 },
 "nbformat": 4,
 "nbformat_minor": 5
}
